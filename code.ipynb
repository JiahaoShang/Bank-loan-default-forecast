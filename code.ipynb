{
 "cells": [
  {
   "cell_type": "markdown",
   "id": "2c0aad87",
   "metadata": {
    "id": "f4b9b716",
    "papermill": {
     "duration": 0.057382,
     "end_time": "2022-02-04T20:53:59.551844",
     "exception": false,
     "start_time": "2022-02-04T20:53:59.494462",
     "status": "completed"
    },
    "tags": []
   },
   "source": [
    "---"
   ]
  },
  {
   "cell_type": "markdown",
   "id": "dac03ed9",
   "metadata": {
    "id": "34257b36",
    "papermill": {
     "duration": 0.054314,
     "end_time": "2022-02-04T20:54:00.667123",
     "exception": false,
     "start_time": "2022-02-04T20:54:00.612809",
     "status": "completed"
    },
    "tags": []
   },
   "source": [
    "# <center>1. Data Exploration"
   ]
  },
  {
   "cell_type": "code",
   "execution_count": 1,
   "id": "909e495a",
   "metadata": {
    "_kg_hide-input": true,
    "execution": {
     "iopub.execute_input": "2022-02-04T20:54:00.795814Z",
     "iopub.status.busy": "2022-02-04T20:54:00.785361Z",
     "iopub.status.idle": "2022-02-04T20:54:02.732205Z",
     "shell.execute_reply": "2022-02-04T20:54:02.732742Z",
     "shell.execute_reply.started": "2022-02-04T20:43:36.001889Z"
    },
    "id": "14121a2f",
    "papermill": {
     "duration": 2.010853,
     "end_time": "2022-02-04T20:54:02.733071",
     "exception": false,
     "start_time": "2022-02-04T20:54:00.722218",
     "status": "completed"
    },
    "tags": []
   },
   "outputs": [],
   "source": [
    "#Importing the basic librarires\n",
    "\n",
    "import os\n",
    "import math\n",
    "import scipy\n",
    "import numpy as np\n",
    "import pandas as pd\n",
    "import seaborn as sns\n",
    "from tqdm import tqdm\n",
    "from sklearn import tree\n",
    "from scipy.stats import randint\n",
    "from scipy.stats import loguniform\n",
    "from IPython.display import display\n",
    "\n",
    "from sklearn.decomposition import PCA\n",
    "from imblearn.over_sampling import SMOTE\n",
    "from sklearn.feature_selection import RFE\n",
    "from sklearn.preprocessing import OneHotEncoder\n",
    "from sklearn.preprocessing import StandardScaler\n",
    "from sklearn.model_selection import train_test_split\n",
    "from statsmodels.stats.outliers_influence import variance_inflation_factor\n",
    "\n",
    "from sklearn.model_selection import RandomizedSearchCV\n",
    "from sklearn.model_selection import RepeatedStratifiedKFold\n",
    "\n",
    "from sklearn.svm import SVC\n",
    "from xgboost import XGBClassifier\n",
    "from sklearn.naive_bayes import BernoulliNB\n",
    "from sklearn.tree import DecisionTreeClassifier\n",
    "from sklearn.ensemble import RandomForestClassifier\n",
    "from sklearn.linear_model import LogisticRegression\n",
    "from sklearn.neighbors import KNeighborsClassifier\n",
    "from sklearn.ensemble import GradientBoostingClassifier\n",
    "\n",
    "from sklearn.linear_model import LinearRegression\n",
    "from sklearn.preprocessing import PolynomialFeatures\n",
    "\n",
    "from scikitplot.metrics import plot_roc_curve as auc_roc\n",
    "from sklearn.metrics import accuracy_score, confusion_matrix, classification_report, \\\n",
    "f1_score, roc_auc_score, roc_curve, precision_score, recall_score\n",
    "\n",
    "import matplotlib.pyplot as plt\n",
    "plt.rcParams['figure.figsize'] = [10,6]\n",
    "\n",
    "import warnings \n",
    "warnings.filterwarnings('ignore')\n",
    "\n",
    "pd.set_option('display.max_columns', 50)"
   ]
  },
  {
   "cell_type": "code",
   "execution_count": 2,
   "id": "48eb64e5",
   "metadata": {
    "execution": {
     "iopub.execute_input": "2022-02-04T20:54:02.849008Z",
     "iopub.status.busy": "2022-02-04T20:54:02.847968Z",
     "iopub.status.idle": "2022-02-04T20:54:04.180208Z",
     "shell.execute_reply": "2022-02-04T20:54:04.180725Z",
     "shell.execute_reply.started": "2022-02-04T20:43:37.875871Z"
    },
    "id": "608f5aea",
    "outputId": "ce439606-ebcb-489e-e391-81fd6fe5ae96",
    "papermill": {
     "duration": 1.392767,
     "end_time": "2022-02-04T20:54:04.180895",
     "exception": false,
     "start_time": "2022-02-04T20:54:02.788128",
     "status": "completed"
    },
    "tags": []
   },
   "outputs": [
    {
     "data": {
      "text/html": [
       "<div>\n",
       "<style scoped>\n",
       "    .dataframe tbody tr th:only-of-type {\n",
       "        vertical-align: middle;\n",
       "    }\n",
       "\n",
       "    .dataframe tbody tr th {\n",
       "        vertical-align: top;\n",
       "    }\n",
       "\n",
       "    .dataframe thead th {\n",
       "        text-align: right;\n",
       "    }\n",
       "</style>\n",
       "<table border=\"1\" class=\"dataframe\">\n",
       "  <thead>\n",
       "    <tr style=\"text-align: right;\">\n",
       "      <th></th>\n",
       "      <th>loan_limit</th>\n",
       "      <th>Gender</th>\n",
       "      <th>approv_in_adv</th>\n",
       "      <th>loan_type</th>\n",
       "      <th>loan_purpose</th>\n",
       "      <th>Credit_Worthiness</th>\n",
       "      <th>open_credit</th>\n",
       "      <th>business_or_commercial</th>\n",
       "      <th>loan_amount</th>\n",
       "      <th>rate_of_interest</th>\n",
       "      <th>Upfront_charges</th>\n",
       "      <th>term</th>\n",
       "      <th>Neg_ammortization</th>\n",
       "      <th>interest_only</th>\n",
       "      <th>lump_sum_payment</th>\n",
       "      <th>property_value</th>\n",
       "      <th>Secured_by</th>\n",
       "      <th>total_units</th>\n",
       "      <th>income</th>\n",
       "      <th>Credit_Score</th>\n",
       "      <th>age</th>\n",
       "      <th>LTV</th>\n",
       "      <th>Region</th>\n",
       "      <th>Status</th>\n",
       "    </tr>\n",
       "  </thead>\n",
       "  <tbody>\n",
       "    <tr>\n",
       "      <th>0</th>\n",
       "      <td>cf</td>\n",
       "      <td>Sex Not Available</td>\n",
       "      <td>nopre</td>\n",
       "      <td>type1</td>\n",
       "      <td>p1</td>\n",
       "      <td>l1</td>\n",
       "      <td>nopc</td>\n",
       "      <td>nob/c</td>\n",
       "      <td>116500</td>\n",
       "      <td>NaN</td>\n",
       "      <td>NaN</td>\n",
       "      <td>360.0</td>\n",
       "      <td>not_neg</td>\n",
       "      <td>not_int</td>\n",
       "      <td>not_lpsm</td>\n",
       "      <td>118000.0</td>\n",
       "      <td>home</td>\n",
       "      <td>1U</td>\n",
       "      <td>1740.0</td>\n",
       "      <td>758</td>\n",
       "      <td>25-34</td>\n",
       "      <td>98.728814</td>\n",
       "      <td>south</td>\n",
       "      <td>1</td>\n",
       "    </tr>\n",
       "    <tr>\n",
       "      <th>1</th>\n",
       "      <td>cf</td>\n",
       "      <td>Male</td>\n",
       "      <td>nopre</td>\n",
       "      <td>type2</td>\n",
       "      <td>p1</td>\n",
       "      <td>l1</td>\n",
       "      <td>nopc</td>\n",
       "      <td>b/c</td>\n",
       "      <td>206500</td>\n",
       "      <td>NaN</td>\n",
       "      <td>NaN</td>\n",
       "      <td>360.0</td>\n",
       "      <td>not_neg</td>\n",
       "      <td>not_int</td>\n",
       "      <td>lpsm</td>\n",
       "      <td>NaN</td>\n",
       "      <td>home</td>\n",
       "      <td>1U</td>\n",
       "      <td>4980.0</td>\n",
       "      <td>552</td>\n",
       "      <td>55-64</td>\n",
       "      <td>NaN</td>\n",
       "      <td>North</td>\n",
       "      <td>1</td>\n",
       "    </tr>\n",
       "    <tr>\n",
       "      <th>2</th>\n",
       "      <td>cf</td>\n",
       "      <td>Male</td>\n",
       "      <td>pre</td>\n",
       "      <td>type1</td>\n",
       "      <td>p1</td>\n",
       "      <td>l1</td>\n",
       "      <td>nopc</td>\n",
       "      <td>nob/c</td>\n",
       "      <td>406500</td>\n",
       "      <td>4.56</td>\n",
       "      <td>595.0</td>\n",
       "      <td>360.0</td>\n",
       "      <td>neg_amm</td>\n",
       "      <td>not_int</td>\n",
       "      <td>not_lpsm</td>\n",
       "      <td>508000.0</td>\n",
       "      <td>home</td>\n",
       "      <td>1U</td>\n",
       "      <td>9480.0</td>\n",
       "      <td>834</td>\n",
       "      <td>35-44</td>\n",
       "      <td>80.019685</td>\n",
       "      <td>south</td>\n",
       "      <td>0</td>\n",
       "    </tr>\n",
       "    <tr>\n",
       "      <th>3</th>\n",
       "      <td>cf</td>\n",
       "      <td>Male</td>\n",
       "      <td>nopre</td>\n",
       "      <td>type1</td>\n",
       "      <td>p4</td>\n",
       "      <td>l1</td>\n",
       "      <td>nopc</td>\n",
       "      <td>nob/c</td>\n",
       "      <td>456500</td>\n",
       "      <td>4.25</td>\n",
       "      <td>NaN</td>\n",
       "      <td>360.0</td>\n",
       "      <td>not_neg</td>\n",
       "      <td>not_int</td>\n",
       "      <td>not_lpsm</td>\n",
       "      <td>658000.0</td>\n",
       "      <td>home</td>\n",
       "      <td>1U</td>\n",
       "      <td>11880.0</td>\n",
       "      <td>587</td>\n",
       "      <td>45-54</td>\n",
       "      <td>69.376900</td>\n",
       "      <td>North</td>\n",
       "      <td>0</td>\n",
       "    </tr>\n",
       "    <tr>\n",
       "      <th>4</th>\n",
       "      <td>cf</td>\n",
       "      <td>Joint</td>\n",
       "      <td>pre</td>\n",
       "      <td>type1</td>\n",
       "      <td>p1</td>\n",
       "      <td>l1</td>\n",
       "      <td>nopc</td>\n",
       "      <td>nob/c</td>\n",
       "      <td>696500</td>\n",
       "      <td>4.00</td>\n",
       "      <td>0.0</td>\n",
       "      <td>360.0</td>\n",
       "      <td>not_neg</td>\n",
       "      <td>not_int</td>\n",
       "      <td>not_lpsm</td>\n",
       "      <td>758000.0</td>\n",
       "      <td>home</td>\n",
       "      <td>1U</td>\n",
       "      <td>10440.0</td>\n",
       "      <td>602</td>\n",
       "      <td>25-34</td>\n",
       "      <td>91.886544</td>\n",
       "      <td>North</td>\n",
       "      <td>0</td>\n",
       "    </tr>\n",
       "  </tbody>\n",
       "</table>\n",
       "</div>"
      ],
      "text/plain": [
       "  loan_limit             Gender approv_in_adv loan_type loan_purpose  \\\n",
       "0         cf  Sex Not Available         nopre     type1           p1   \n",
       "1         cf               Male         nopre     type2           p1   \n",
       "2         cf               Male           pre     type1           p1   \n",
       "3         cf               Male         nopre     type1           p4   \n",
       "4         cf              Joint           pre     type1           p1   \n",
       "\n",
       "  Credit_Worthiness open_credit business_or_commercial  loan_amount  \\\n",
       "0                l1        nopc                  nob/c       116500   \n",
       "1                l1        nopc                    b/c       206500   \n",
       "2                l1        nopc                  nob/c       406500   \n",
       "3                l1        nopc                  nob/c       456500   \n",
       "4                l1        nopc                  nob/c       696500   \n",
       "\n",
       "   rate_of_interest  Upfront_charges   term Neg_ammortization interest_only  \\\n",
       "0               NaN              NaN  360.0           not_neg       not_int   \n",
       "1               NaN              NaN  360.0           not_neg       not_int   \n",
       "2              4.56            595.0  360.0           neg_amm       not_int   \n",
       "3              4.25              NaN  360.0           not_neg       not_int   \n",
       "4              4.00              0.0  360.0           not_neg       not_int   \n",
       "\n",
       "  lump_sum_payment  property_value Secured_by total_units   income  \\\n",
       "0         not_lpsm        118000.0       home          1U   1740.0   \n",
       "1             lpsm             NaN       home          1U   4980.0   \n",
       "2         not_lpsm        508000.0       home          1U   9480.0   \n",
       "3         not_lpsm        658000.0       home          1U  11880.0   \n",
       "4         not_lpsm        758000.0       home          1U  10440.0   \n",
       "\n",
       "   Credit_Score    age        LTV Region  Status  \n",
       "0           758  25-34  98.728814  south       1  \n",
       "1           552  55-64        NaN  North       1  \n",
       "2           834  35-44  80.019685  south       0  \n",
       "3           587  45-54  69.376900  North       0  \n",
       "4           602  25-34  91.886544  North       0  "
      ]
     },
     "metadata": {},
     "output_type": "display_data"
    },
    {
     "name": "stdout",
     "output_type": "stream",
     "text": [
      "\n",
      "\u001b[1mInference:\u001b[0m The Datset consists of 24 features & 148670 samples.\n"
     ]
    }
   ],
   "source": [
    "#Importing the dataset\n",
    "\n",
    "df = pd.read_csv('default_data.csv')\n",
    "df.drop(['ID','year'],axis=1, inplace=True)\n",
    "\n",
    "target = 'Status'\n",
    "labels = ['Defaulter','Not-Defaulter']\n",
    "features = [i for i in df.columns.values if i not in [target]]\n",
    "\n",
    "original_df = df.copy(deep=True)\n",
    "display(df.head())\n",
    "\n",
    "print('\\n\\033[1mInference:\\033[0m The Datset consists of {} features & {} samples.'.format(df.shape[1], df.shape[0]))"
   ]
  },
  {
   "cell_type": "code",
   "execution_count": 3,
   "id": "1095d56e",
   "metadata": {
    "execution": {
     "iopub.execute_input": "2022-02-04T20:54:04.299134Z",
     "iopub.status.busy": "2022-02-04T20:54:04.298157Z",
     "iopub.status.idle": "2022-02-04T20:54:04.660168Z",
     "shell.execute_reply": "2022-02-04T20:54:04.660738Z",
     "shell.execute_reply.started": "2022-02-04T20:43:39.102121Z"
    },
    "id": "67ecc02a",
    "outputId": "01a1684f-fb0b-472d-b398-f598878dc4a5",
    "papermill": {
     "duration": 0.423834,
     "end_time": "2022-02-04T20:54:04.660911",
     "exception": false,
     "start_time": "2022-02-04T20:54:04.237077",
     "status": "completed"
    },
    "tags": []
   },
   "outputs": [
    {
     "name": "stdout",
     "output_type": "stream",
     "text": [
      "<class 'pandas.core.frame.DataFrame'>\n",
      "RangeIndex: 148670 entries, 0 to 148669\n",
      "Data columns (total 24 columns):\n",
      " #   Column                  Non-Null Count   Dtype  \n",
      "---  ------                  --------------   -----  \n",
      " 0   loan_limit              145326 non-null  object \n",
      " 1   Gender                  148670 non-null  object \n",
      " 2   approv_in_adv           147762 non-null  object \n",
      " 3   loan_type               148670 non-null  object \n",
      " 4   loan_purpose            148536 non-null  object \n",
      " 5   Credit_Worthiness       148670 non-null  object \n",
      " 6   open_credit             148670 non-null  object \n",
      " 7   business_or_commercial  148670 non-null  object \n",
      " 8   loan_amount             148670 non-null  int64  \n",
      " 9   rate_of_interest        112231 non-null  float64\n",
      " 10  Upfront_charges         109028 non-null  float64\n",
      " 11  term                    148629 non-null  float64\n",
      " 12  Neg_ammortization       148549 non-null  object \n",
      " 13  interest_only           148670 non-null  object \n",
      " 14  lump_sum_payment        148670 non-null  object \n",
      " 15  property_value          133572 non-null  float64\n",
      " 16  Secured_by              148670 non-null  object \n",
      " 17  total_units             148670 non-null  object \n",
      " 18  income                  139520 non-null  float64\n",
      " 19  Credit_Score            148670 non-null  int64  \n",
      " 20  age                     148470 non-null  object \n",
      " 21  LTV                     133572 non-null  float64\n",
      " 22  Region                  148670 non-null  object \n",
      " 23  Status                  148670 non-null  int64  \n",
      "dtypes: float64(6), int64(3), object(15)\n",
      "memory usage: 27.2+ MB\n"
     ]
    }
   ],
   "source": [
    "#Checking the dtypes of all the columns\n",
    "\n",
    "df.info()"
   ]
  },
  {
   "cell_type": "code",
   "execution_count": 4,
   "id": "b8d3bfdc",
   "metadata": {
    "execution": {
     "iopub.execute_input": "2022-02-04T20:54:04.784406Z",
     "iopub.status.busy": "2022-02-04T20:54:04.783734Z",
     "iopub.status.idle": "2022-02-04T20:54:05.072590Z",
     "shell.execute_reply": "2022-02-04T20:54:05.071703Z",
     "shell.execute_reply.started": "2022-02-04T20:43:40.555282Z"
    },
    "id": "e72cd720",
    "outputId": "060ec210-88f7-4a6c-f96f-4e8fb960743d",
    "papermill": {
     "duration": 0.35577,
     "end_time": "2022-02-04T20:54:05.072796",
     "exception": false,
     "start_time": "2022-02-04T20:54:04.717026",
     "status": "completed"
    },
    "tags": []
   },
   "outputs": [
    {
     "data": {
      "text/plain": [
       "loan_limit                    2\n",
       "Secured_by                    2\n",
       "lump_sum_payment              2\n",
       "interest_only                 2\n",
       "Neg_ammortization             2\n",
       "business_or_commercial        2\n",
       "Status                        2\n",
       "Credit_Worthiness             2\n",
       "approv_in_adv                 2\n",
       "open_credit                   2\n",
       "loan_type                     3\n",
       "total_units                   4\n",
       "Gender                        4\n",
       "Region                        4\n",
       "loan_purpose                  4\n",
       "age                           7\n",
       "term                         26\n",
       "rate_of_interest            131\n",
       "loan_amount                 211\n",
       "property_value              385\n",
       "Credit_Score                401\n",
       "income                     1001\n",
       "LTV                        8484\n",
       "Upfront_charges           58271\n",
       "dtype: int64"
      ]
     },
     "execution_count": 4,
     "metadata": {},
     "output_type": "execute_result"
    }
   ],
   "source": [
    "#Checking number of unique rows in each feature\n",
    "\n",
    "df.nunique().sort_values()"
   ]
  },
  {
   "cell_type": "code",
   "execution_count": 5,
   "id": "3bf52d74",
   "metadata": {
    "execution": {
     "iopub.execute_input": "2022-02-04T20:54:05.194701Z",
     "iopub.status.busy": "2022-02-04T20:54:05.193721Z",
     "iopub.status.idle": "2022-02-04T20:54:05.554577Z",
     "shell.execute_reply": "2022-02-04T20:54:05.555101Z",
     "shell.execute_reply.started": "2022-02-04T20:43:40.767517Z"
    },
    "id": "8bd62707",
    "outputId": "0a97efd3-bd26-4ca6-8f33-e41359553e16",
    "papermill": {
     "duration": 0.425046,
     "end_time": "2022-02-04T20:54:05.555276",
     "exception": false,
     "start_time": "2022-02-04T20:54:05.130230",
     "status": "completed"
    },
    "tags": []
   },
   "outputs": [
    {
     "name": "stdout",
     "output_type": "stream",
     "text": [
      "\n",
      "\u001b[1mInference:\u001b[0m The Datset has 8 numerical & 15 categorical features.\n"
     ]
    }
   ],
   "source": [
    "#Checking number of unique rows in each feature\n",
    "\n",
    "nu = df[features].nunique().sort_values()\n",
    "nf = []; cf = []; nnf = 0; ncf = 0; #numerical & categorical features\n",
    "\n",
    "for i in range(df[features].shape[1]):\n",
    "    if nu.values[i]<=7:cf.append(nu.index[i])\n",
    "    else: nf.append(nu.index[i])\n",
    "\n",
    "print('\\n\\033[1mInference:\\033[0m The Datset has {} numerical & {} categorical features.'.format(len(nf),len(cf)))"
   ]
  },
  {
   "cell_type": "code",
   "execution_count": 6,
   "id": "a4f71309",
   "metadata": {
    "execution": {
     "iopub.execute_input": "2022-02-04T20:54:05.681690Z",
     "iopub.status.busy": "2022-02-04T20:54:05.681003Z",
     "iopub.status.idle": "2022-02-04T20:54:05.794988Z",
     "shell.execute_reply": "2022-02-04T20:54:05.794368Z",
     "shell.execute_reply.started": "2022-02-04T20:43:41.049497Z"
    },
    "id": "1f2b3ecc",
    "outputId": "0f6ac2da-32e2-4b4c-e88d-741c9b4574a6",
    "papermill": {
     "duration": 0.178243,
     "end_time": "2022-02-04T20:54:05.795128",
     "exception": false,
     "start_time": "2022-02-04T20:54:05.616885",
     "status": "completed"
    },
    "tags": []
   },
   "outputs": [
    {
     "data": {
      "text/html": [
       "<div>\n",
       "<style scoped>\n",
       "    .dataframe tbody tr th:only-of-type {\n",
       "        vertical-align: middle;\n",
       "    }\n",
       "\n",
       "    .dataframe tbody tr th {\n",
       "        vertical-align: top;\n",
       "    }\n",
       "\n",
       "    .dataframe thead th {\n",
       "        text-align: right;\n",
       "    }\n",
       "</style>\n",
       "<table border=\"1\" class=\"dataframe\">\n",
       "  <thead>\n",
       "    <tr style=\"text-align: right;\">\n",
       "      <th></th>\n",
       "      <th>loan_amount</th>\n",
       "      <th>rate_of_interest</th>\n",
       "      <th>Upfront_charges</th>\n",
       "      <th>term</th>\n",
       "      <th>property_value</th>\n",
       "      <th>income</th>\n",
       "      <th>Credit_Score</th>\n",
       "      <th>LTV</th>\n",
       "      <th>Status</th>\n",
       "    </tr>\n",
       "  </thead>\n",
       "  <tbody>\n",
       "    <tr>\n",
       "      <th>count</th>\n",
       "      <td>1.486700e+05</td>\n",
       "      <td>112231.000000</td>\n",
       "      <td>109028.000000</td>\n",
       "      <td>148629.000000</td>\n",
       "      <td>1.335720e+05</td>\n",
       "      <td>139520.000000</td>\n",
       "      <td>148670.000000</td>\n",
       "      <td>133572.000000</td>\n",
       "      <td>148670.000000</td>\n",
       "    </tr>\n",
       "    <tr>\n",
       "      <th>mean</th>\n",
       "      <td>3.311177e+05</td>\n",
       "      <td>4.045476</td>\n",
       "      <td>3224.996127</td>\n",
       "      <td>335.136582</td>\n",
       "      <td>4.978935e+05</td>\n",
       "      <td>6957.338876</td>\n",
       "      <td>699.789103</td>\n",
       "      <td>72.746457</td>\n",
       "      <td>0.246445</td>\n",
       "    </tr>\n",
       "    <tr>\n",
       "      <th>std</th>\n",
       "      <td>1.839093e+05</td>\n",
       "      <td>0.561391</td>\n",
       "      <td>3251.121510</td>\n",
       "      <td>58.409084</td>\n",
       "      <td>3.599353e+05</td>\n",
       "      <td>6496.586382</td>\n",
       "      <td>115.875857</td>\n",
       "      <td>39.967603</td>\n",
       "      <td>0.430942</td>\n",
       "    </tr>\n",
       "    <tr>\n",
       "      <th>min</th>\n",
       "      <td>1.650000e+04</td>\n",
       "      <td>0.000000</td>\n",
       "      <td>0.000000</td>\n",
       "      <td>96.000000</td>\n",
       "      <td>8.000000e+03</td>\n",
       "      <td>0.000000</td>\n",
       "      <td>500.000000</td>\n",
       "      <td>0.967478</td>\n",
       "      <td>0.000000</td>\n",
       "    </tr>\n",
       "    <tr>\n",
       "      <th>25%</th>\n",
       "      <td>1.965000e+05</td>\n",
       "      <td>3.625000</td>\n",
       "      <td>581.490000</td>\n",
       "      <td>360.000000</td>\n",
       "      <td>2.680000e+05</td>\n",
       "      <td>3720.000000</td>\n",
       "      <td>599.000000</td>\n",
       "      <td>60.474860</td>\n",
       "      <td>0.000000</td>\n",
       "    </tr>\n",
       "    <tr>\n",
       "      <th>50%</th>\n",
       "      <td>2.965000e+05</td>\n",
       "      <td>3.990000</td>\n",
       "      <td>2596.450000</td>\n",
       "      <td>360.000000</td>\n",
       "      <td>4.180000e+05</td>\n",
       "      <td>5760.000000</td>\n",
       "      <td>699.000000</td>\n",
       "      <td>75.135870</td>\n",
       "      <td>0.000000</td>\n",
       "    </tr>\n",
       "    <tr>\n",
       "      <th>75%</th>\n",
       "      <td>4.365000e+05</td>\n",
       "      <td>4.375000</td>\n",
       "      <td>4812.500000</td>\n",
       "      <td>360.000000</td>\n",
       "      <td>6.280000e+05</td>\n",
       "      <td>8520.000000</td>\n",
       "      <td>800.000000</td>\n",
       "      <td>86.184211</td>\n",
       "      <td>0.000000</td>\n",
       "    </tr>\n",
       "    <tr>\n",
       "      <th>max</th>\n",
       "      <td>3.576500e+06</td>\n",
       "      <td>8.000000</td>\n",
       "      <td>60000.000000</td>\n",
       "      <td>360.000000</td>\n",
       "      <td>1.650800e+07</td>\n",
       "      <td>578580.000000</td>\n",
       "      <td>900.000000</td>\n",
       "      <td>7831.250000</td>\n",
       "      <td>1.000000</td>\n",
       "    </tr>\n",
       "  </tbody>\n",
       "</table>\n",
       "</div>"
      ],
      "text/plain": [
       "        loan_amount  rate_of_interest  Upfront_charges           term  \\\n",
       "count  1.486700e+05     112231.000000    109028.000000  148629.000000   \n",
       "mean   3.311177e+05          4.045476      3224.996127     335.136582   \n",
       "std    1.839093e+05          0.561391      3251.121510      58.409084   \n",
       "min    1.650000e+04          0.000000         0.000000      96.000000   \n",
       "25%    1.965000e+05          3.625000       581.490000     360.000000   \n",
       "50%    2.965000e+05          3.990000      2596.450000     360.000000   \n",
       "75%    4.365000e+05          4.375000      4812.500000     360.000000   \n",
       "max    3.576500e+06          8.000000     60000.000000     360.000000   \n",
       "\n",
       "       property_value         income   Credit_Score            LTV  \\\n",
       "count    1.335720e+05  139520.000000  148670.000000  133572.000000   \n",
       "mean     4.978935e+05    6957.338876     699.789103      72.746457   \n",
       "std      3.599353e+05    6496.586382     115.875857      39.967603   \n",
       "min      8.000000e+03       0.000000     500.000000       0.967478   \n",
       "25%      2.680000e+05    3720.000000     599.000000      60.474860   \n",
       "50%      4.180000e+05    5760.000000     699.000000      75.135870   \n",
       "75%      6.280000e+05    8520.000000     800.000000      86.184211   \n",
       "max      1.650800e+07  578580.000000     900.000000    7831.250000   \n",
       "\n",
       "              Status  \n",
       "count  148670.000000  \n",
       "mean        0.246445  \n",
       "std         0.430942  \n",
       "min         0.000000  \n",
       "25%         0.000000  \n",
       "50%         0.000000  \n",
       "75%         0.000000  \n",
       "max         1.000000  "
      ]
     },
     "metadata": {},
     "output_type": "display_data"
    }
   ],
   "source": [
    "#Checking the stats of all the columns\n",
    "\n",
    "display(df.describe())"
   ]
  },
  {
   "cell_type": "markdown",
   "id": "c6813601",
   "metadata": {
    "id": "7c785e92",
    "papermill": {
     "duration": 0.059832,
     "end_time": "2022-02-04T20:54:05.915358",
     "exception": false,
     "start_time": "2022-02-04T20:54:05.855526",
     "status": "completed"
    },
    "tags": []
   },
   "source": [
    "**Inference:** The stats seem to be fine, let us gain more undestanding by visualising the dataset."
   ]
  },
  {
   "cell_type": "markdown",
   "id": "4334116d",
   "metadata": {
    "id": "ada9e209",
    "papermill": {
     "duration": 0.058626,
     "end_time": "2022-02-04T20:54:06.033749",
     "exception": false,
     "start_time": "2022-02-04T20:54:05.975123",
     "status": "completed"
    },
    "tags": []
   },
   "source": [
    "---"
   ]
  },
  {
   "cell_type": "markdown",
   "id": "adb62ffb",
   "metadata": {
    "id": "fdf33033",
    "papermill": {
     "duration": 0.059058,
     "end_time": "2022-02-04T20:54:06.151408",
     "exception": false,
     "start_time": "2022-02-04T20:54:06.092350",
     "status": "completed"
    },
    "tags": []
   },
   "source": [
    "# <center> 2. Exploratory Data Analysis (EDA)"
   ]
  },
  {
   "cell_type": "code",
   "execution_count": 7,
   "id": "99aaa41f",
   "metadata": {
    "execution": {
     "iopub.execute_input": "2022-02-04T20:54:06.274472Z",
     "iopub.status.busy": "2022-02-04T20:54:06.273789Z",
     "iopub.status.idle": "2022-02-04T20:54:06.589104Z",
     "shell.execute_reply": "2022-02-04T20:54:06.590032Z",
     "shell.execute_reply.started": "2022-02-04T20:43:45.631432Z"
    },
    "id": "13b9d4a2",
    "outputId": "90c71336-4e68-409e-fad5-708bccccf7dc",
    "papermill": {
     "duration": 0.378988,
     "end_time": "2022-02-04T20:54:06.590356",
     "exception": false,
     "start_time": "2022-02-04T20:54:06.211368",
     "status": "completed"
    },
    "tags": []
   },
   "outputs": [
    {
     "name": "stdout",
     "output_type": "stream",
     "text": [
      "            \u001b[1mTarget Variable Distribution           \n"
     ]
    },
    {
     "data": {
      "image/png": "[encoded data removed]",
      "text/plain": [
       "<Figure size 720x432 with 1 Axes>"
      ]
     },
     "metadata": {},
     "output_type": "display_data"
    }
   ],
   "source": [
    "#Let us first analyze the distribution of the target variable\n",
    "\n",
    "MAP={}\n",
    "for e, i in enumerate(sorted(df[target].unique())):\n",
    "    MAP[i]=labels[e]\n",
    "#MAP={0:'Not-Survived',1:'Survived'}\n",
    "df1 = df.copy()\n",
    "df1[target]=df1[target].map(MAP)\n",
    "explode=np.zeros(len(labels))\n",
    "explode[-1]=0.1\n",
    "print('\\033[1mTarget Variable Distribution'.center(55))\n",
    "plt.pie(df1[target].value_counts(), labels=df1[target].value_counts().index, counterclock=False, shadow=True, \n",
    "        explode=explode, autopct='%1.1f%%', radius=1, startangle=0)\n",
    "plt.show()"
   ]
  },
  {
   "cell_type": "markdown",
   "id": "606cfeb8",
   "metadata": {
    "id": "f55ea687",
    "papermill": {
     "duration": 0.062997,
     "end_time": "2022-02-04T20:54:06.749644",
     "exception": false,
     "start_time": "2022-02-04T20:54:06.686647",
     "status": "completed"
    },
    "tags": []
   },
   "source": [
    "**Inference:** The Target Variable seems to be slightly imbalanced! Hence we shall try to perform data augmentation."
   ]
  },
  {
   "cell_type": "code",
   "execution_count": 8,
   "id": "e7f6184a",
   "metadata": {
    "execution": {
     "iopub.execute_input": "2022-02-04T20:54:06.905427Z",
     "iopub.status.busy": "2022-02-04T20:54:06.904633Z",
     "iopub.status.idle": "2022-02-04T20:54:13.470886Z",
     "shell.execute_reply": "2022-02-04T20:54:13.471444Z",
     "shell.execute_reply.started": "2022-01-29T16:16:39.603871Z"
    },
    "id": "39ea3286",
    "outputId": "86fbc7ec-c956-4846-a19a-4f8f1dbcf478",
    "papermill": {
     "duration": 6.653388,
     "end_time": "2022-02-04T20:54:13.471638",
     "exception": false,
     "start_time": "2022-02-04T20:54:06.818250",
     "status": "completed"
    },
    "tags": []
   },
   "outputs": [
    {
     "name": "stdout",
     "output_type": "stream",
     "text": [
      "                               \u001b[1mVisualising Categorical Features:                                \n"
     ]
    },
    {
     "data": {
      "image/png": "[encoded data removed]",
      "text/plain": [
       "<Figure size 1080x1080 with 15 Axes>"
      ]
     },
     "metadata": {
      "needs_background": "light"
     },
     "output_type": "display_data"
    }
   ],
   "source": [
    "#Visualising the categorical features \n",
    "\n",
    "print('\\033[1mVisualising Categorical Features:'.center(100))\n",
    "\n",
    "n=3\n",
    "plt.figure(figsize=[15,3*math.ceil(len(cf)/n)])\n",
    "\n",
    "for i in range(len(cf)):\n",
    "    if df[cf[i]].nunique()<=12:\n",
    "        plt.subplot(math.ceil(len(cf)/n),n,i+1)\n",
    "        sns.countplot(df[cf[i]])\n",
    "    else:\n",
    "        plt.subplot(3,1,i-1)\n",
    "        sns.countplot(df[cf[i]])\n",
    "plt.tight_layout()\n",
    "plt.show()"
   ]
  },
  {
   "cell_type": "markdown",
   "id": "09ef269c",
   "metadata": {
    "id": "91d5f4f0",
    "papermill": {
     "duration": 0.064812,
     "end_time": "2022-02-04T20:54:13.602775",
     "exception": false,
     "start_time": "2022-02-04T20:54:13.537963",
     "status": "completed"
    },
    "tags": []
   },
   "source": [
    "**Inference:** Visualizing the categorical features reveal lot of information about the dataset."
   ]
  },
  {
   "cell_type": "code",
   "execution_count": 9,
   "id": "56a19914",
   "metadata": {
    "execution": {
     "iopub.execute_input": "2022-02-04T20:54:13.732585Z",
     "iopub.status.busy": "2022-02-04T20:54:13.731565Z",
     "iopub.status.idle": "2022-02-04T20:54:25.715213Z",
     "shell.execute_reply": "2022-02-04T20:54:25.715740Z",
     "shell.execute_reply.started": "2022-01-29T16:16:43.868076Z"
    },
    "id": "3120759d",
    "outputId": "87a560f1-0a37-484e-9c9f-1ae91a34d445",
    "papermill": {
     "duration": 12.050772,
     "end_time": "2022-02-04T20:54:25.715918",
     "exception": false,
     "start_time": "2022-02-04T20:54:13.665146",
     "status": "completed"
    },
    "tags": []
   },
   "outputs": [
    {
     "name": "stdout",
     "output_type": "stream",
     "text": [
      "                                     \u001b[1mFeatures Distribution                                      \n"
     ]
    },
    {
     "data": {
      "image/png": "[encoded data removed]",
      "text/plain": [
       "<Figure size 1080x1728 with 8 Axes>"
      ]
     },
     "metadata": {
      "needs_background": "light"
     },
     "output_type": "display_data"
    },
    {
     "data": {
      "image/png": "[encoded data removed]",
      "text/plain": [
       "<Figure size 1080x1728 with 8 Axes>"
      ]
     },
     "metadata": {
      "needs_background": "light"
     },
     "output_type": "display_data"
    }
   ],
   "source": [
    "#Understanding the feature set\n",
    "\n",
    "print('\\033[1mFeatures Distribution'.center(100))\n",
    "\n",
    "nf = [i for i in features if i not in cf]\n",
    "\n",
    "plt.figure(figsize=[15,3*math.ceil(len(features)/3)])\n",
    "for c in range(len(nf)):\n",
    "    plt.subplot(math.ceil(len(features)/3),3,c+1)\n",
    "    sns.distplot(df[nf[c]])\n",
    "plt.tight_layout()\n",
    "plt.show()\n",
    "\n",
    "plt.figure(figsize=[15,3*math.ceil(len(features)/3)])\n",
    "for c in range(len(nf)):\n",
    "    plt.subplot(math.ceil(len(features)/3),3,c+1)\n",
    "    df.boxplot(nf[c])\n",
    "plt.tight_layout()\n",
    "plt.show()"
   ]
  },
  {
   "cell_type": "markdown",
   "id": "dfefaafa",
   "metadata": {
    "id": "b2a2d578",
    "papermill": {
     "duration": 0.076504,
     "end_time": "2022-02-04T20:54:25.863855",
     "exception": false,
     "start_time": "2022-02-04T20:54:25.787351",
     "status": "completed"
    },
    "tags": []
   },
   "source": [
    "**Inference:** The data is somewhat normally distributed. And there are many outliers present in the dataset. We shall fix these outliers.."
   ]
  },
  {
   "cell_type": "code",
   "execution_count": 10,
   "id": "f22a3ad3",
   "metadata": {
    "execution": {
     "iopub.execute_input": "2022-02-04T20:54:26.007439Z",
     "iopub.status.busy": "2022-02-04T20:54:26.006413Z",
     "iopub.status.idle": "2022-02-04T20:54:26.009995Z",
     "shell.execute_reply": "2022-02-04T20:54:26.010576Z",
     "shell.execute_reply.started": "2022-01-29T16:16:53.873712Z"
    },
    "id": "46d7953e",
    "outputId": "db940832-2a60-46d2-85b0-5fe2a6646294",
    "papermill": {
     "duration": 0.077774,
     "end_time": "2022-02-04T20:54:26.010766",
     "exception": false,
     "start_time": "2022-02-04T20:54:25.932992",
     "status": "completed"
    },
    "tags": []
   },
   "outputs": [],
   "source": [
    "# #Understanding the relationship between all the features\n",
    "\n",
    "# try:\n",
    "#     g=sns.pairplot(df1, hue=target, size=4)\n",
    "#     g.map_upper(sns.kdeplot, levels=1, color=\".2\")\n",
    "#     plt.show()\n",
    "# except:\n",
    "#     pass"
   ]
  },
  {
   "cell_type": "markdown",
   "id": "e6cf8cb0",
   "metadata": {
    "id": "5a329c3f",
    "papermill": {
     "duration": 0.067543,
     "end_time": "2022-02-04T20:54:26.148270",
     "exception": false,
     "start_time": "2022-02-04T20:54:26.080727",
     "status": "completed"
    },
    "tags": []
   },
   "source": [
    "**Inference:** The data samples of most of the features do show some patterns. Also they seem\n",
    "to have lot of overlap for the outcome classes, making it difficult to be distingusihable. \n",
    "Let is proceed to perform cleanup on the data to remove the irregularities..."
   ]
  },
  {
   "cell_type": "markdown",
   "id": "2e1071a5",
   "metadata": {
    "id": "3f837e24",
    "papermill": {
     "duration": 0.072189,
     "end_time": "2022-02-04T20:54:26.290227",
     "exception": false,
     "start_time": "2022-02-04T20:54:26.218038",
     "status": "completed"
    },
    "tags": []
   },
   "source": [
    "---"
   ]
  },
  {
   "cell_type": "markdown",
   "id": "1e965736",
   "metadata": {
    "id": "6f3612c2",
    "papermill": {
     "duration": 0.070932,
     "end_time": "2022-02-04T20:54:26.431167",
     "exception": false,
     "start_time": "2022-02-04T20:54:26.360235",
     "status": "completed"
    },
    "tags": []
   },
   "source": [
    "# <center> 3. Data Preprocessing"
   ]
  },
  {
   "cell_type": "code",
   "execution_count": 11,
   "id": "527b256b",
   "metadata": {
    "execution": {
     "iopub.execute_input": "2022-02-04T20:54:26.578468Z",
     "iopub.status.busy": "2022-02-04T20:54:26.576649Z",
     "iopub.status.idle": "2022-02-04T20:54:27.022402Z",
     "shell.execute_reply": "2022-02-04T20:54:27.021901Z",
     "shell.execute_reply.started": "2022-02-04T20:43:52.499163Z"
    },
    "id": "58cc576e",
    "outputId": "454dd773-e152-49df-e694-cc52d27584c8",
    "papermill": {
     "duration": 0.520735,
     "end_time": "2022-02-04T20:54:27.022544",
     "exception": false,
     "start_time": "2022-02-04T20:54:26.501809",
     "status": "completed"
    },
    "tags": []
   },
   "outputs": [
    {
     "name": "stdout",
     "output_type": "stream",
     "text": [
      "\n",
      "\u001b[1mInference:\u001b[0m Number of duplicates dropped ---> 1\n"
     ]
    }
   ],
   "source": [
    "#Removal of any Duplicate rows (if any)\n",
    "\n",
    "counter = 0\n",
    "r,c = original_df.shape\n",
    "\n",
    "df1 = df.copy()\n",
    "df1.drop_duplicates(inplace=True)\n",
    "df1.reset_index(drop=True,inplace=True)\n",
    "\n",
    "if df1.shape==(r,c):\n",
    "    print('\\n\\033[1mInference:\\033[0m The dataset doesn\\'t have any duplicates')\n",
    "else:\n",
    "    print(f'\\n\\033[1mInference:\\033[0m Number of duplicates dropped ---> {r-df1.shape[0]}')"
   ]
  },
  {
   "cell_type": "code",
   "execution_count": 12,
   "id": "0401b59f",
   "metadata": {
    "execution": {
     "iopub.execute_input": "2022-02-04T20:54:27.504530Z",
     "iopub.status.busy": "2022-02-04T20:54:27.503796Z",
     "iopub.status.idle": "2022-02-04T20:54:27.521996Z",
     "shell.execute_reply": "2022-02-04T20:54:27.521447Z",
     "shell.execute_reply.started": "2022-02-04T20:43:52.898302Z"
    },
    "id": "4ce5947e",
    "outputId": "eee2826d-0990-4dcf-c4e8-c25d3db6eb51",
    "papermill": {
     "duration": 0.427473,
     "end_time": "2022-02-04T20:54:27.522158",
     "exception": false,
     "start_time": "2022-02-04T20:54:27.094685",
     "status": "completed"
    },
    "tags": []
   },
   "outputs": [
    {
     "name": "stdout",
     "output_type": "stream",
     "text": [
      "                        Total Null Values  Percentage\n",
      "Status                                  0         0.0\n",
      "Gender                                  0         0.0\n",
      "Credit_Score                            0         0.0\n",
      "loan_type                               0         0.0\n",
      "total_units                             0         0.0\n",
      "Credit_Worthiness                       0         0.0\n",
      "open_credit                             0         0.0\n",
      "business_or_commercial                  0         0.0\n",
      "loan_amount                             0         0.0\n",
      "Secured_by                              0         0.0\n",
      "lump_sum_payment                        0         0.0\n",
      "Region                                  0         0.0\n",
      "interest_only                           0         0.0\n",
      "term                                   41         0.0\n",
      "Neg_ammortization                     121         0.1\n",
      "loan_purpose                          134         0.1\n",
      "age                                   200         0.1\n",
      "approv_in_adv                         908         0.6\n",
      "loan_limit                           3344         2.2\n",
      "income                               9149         6.2\n",
      "property_value                      15098        10.2\n",
      "LTV                                 15098        10.2\n",
      "rate_of_interest                    36439        24.5\n",
      "Upfront_charges                     39642        26.7\n"
     ]
    }
   ],
   "source": [
    "#Check for empty elements\n",
    "\n",
    "nvc = pd.DataFrame(df1.isnull().sum().sort_values(), columns=['Total Null Values'])\n",
    "nvc['Percentage'] = round(nvc['Total Null Values']/df1.shape[0],3)*100\n",
    "print(nvc)"
   ]
  },
  {
   "cell_type": "markdown",
   "id": "fb991f06",
   "metadata": {
    "papermill": {
     "duration": 0.069055,
     "end_time": "2022-02-04T20:54:27.662395",
     "exception": false,
     "start_time": "2022-02-04T20:54:27.593340",
     "status": "completed"
    },
    "tags": []
   },
   "source": [
    "**Inference:** There are many outliers in the dataset. Let us try to impute the missing values"
   ]
  },
  {
   "cell_type": "code",
   "execution_count": 13,
   "id": "a900ca78",
   "metadata": {
    "execution": {
     "iopub.execute_input": "2022-02-04T20:54:27.808904Z",
     "iopub.status.busy": "2022-02-04T20:54:27.808059Z",
     "iopub.status.idle": "2022-02-04T20:55:20.466264Z",
     "shell.execute_reply": "2022-02-04T20:55:20.465600Z",
     "shell.execute_reply.started": "2022-02-04T20:43:53.763464Z"
    },
    "papermill": {
     "duration": 52.735319,
     "end_time": "2022-02-04T20:55:20.466418",
     "exception": false,
     "start_time": "2022-02-04T20:54:27.731099",
     "status": "completed"
    },
    "tags": []
   },
   "outputs": [],
   "source": [
    "from sklearn.impute import SimpleImputer\n",
    "\n",
    "for i in nf:\n",
    "    SI = SimpleImputer(strategy='mean')\n",
    "    df[i] = SI.fit_transform(df[[i]])\n",
    "    \n",
    "for i in cf:\n",
    "    SI = SimpleImputer(strategy='most_frequent')\n",
    "    df[i] = SI.fit_transform(df[[i]])"
   ]
  },
  {
   "cell_type": "code",
   "execution_count": 14,
   "id": "c60f8cb4",
   "metadata": {
    "execution": {
     "iopub.execute_input": "2022-02-04T20:55:20.620220Z",
     "iopub.status.busy": "2022-02-04T20:55:20.619509Z",
     "iopub.status.idle": "2022-02-04T20:55:21.405675Z",
     "shell.execute_reply": "2022-02-04T20:55:21.406177Z",
     "shell.execute_reply.started": "2022-02-04T20:44:46.902884Z"
    },
    "papermill": {
     "duration": 0.867707,
     "end_time": "2022-02-04T20:55:21.406342",
     "exception": false,
     "start_time": "2022-02-04T20:55:20.538635",
     "status": "completed"
    },
    "tags": []
   },
   "outputs": [
    {
     "name": "stdout",
     "output_type": "stream",
     "text": [
      "Mapping Target variable ---> {1: 0, 0: 1}\n",
      "\u001b[1m\n",
      "One-Hot Encoding on features:\u001b[0m\n",
      "Secured_by\n",
      "Credit_Worthiness\n",
      "open_credit\n",
      "business_or_commercial\n",
      "lump_sum_payment\n",
      "interest_only\n",
      "\n",
      "\u001b[1mDummy Encoding on features:\u001b[0m\n",
      "loan_type\n",
      "total_units\n",
      "Region\n",
      "Gender\n"
     ]
    },
    {
     "data": {
      "text/plain": [
       "(148670, 21)"
      ]
     },
     "execution_count": 14,
     "metadata": {},
     "output_type": "execute_result"
    }
   ],
   "source": [
    "#Converting categorical Columns to Numeric\n",
    "\n",
    "df1 = df.copy()\n",
    "ecc = nvc[nvc['Percentage']!=0].index.values\n",
    "dcc = [i for i in df.columns if i not in ecc]\n",
    "\n",
    "#Target Variable\n",
    "MAP={}\n",
    "for i,e in enumerate(df1[target].unique()):\n",
    "    MAP[e]=i\n",
    "df1[target]=df1[target].map(MAP)\n",
    "print('Mapping Target variable --->',MAP)\n",
    "\n",
    "df3 = df1[dcc]\n",
    "fcc = [i for i in cf if i not in ecc]\n",
    "\n",
    "#One-Hot Binay Encoding\n",
    "oh=True\n",
    "dm=True\n",
    "for i in fcc:\n",
    "    #print(i)\n",
    "    if df3[i].nunique()==2:\n",
    "        if oh==True: print(\"\\033[1m\\nOne-Hot Encoding on features:\\033[0m\")\n",
    "        print(i);oh=False\n",
    "        df3[i]=pd.get_dummies(df3[i], drop_first=True, prefix=str(i))\n",
    "    if (df3[i].nunique()>2 and df3[i].nunique()<17):\n",
    "        if dm==True: print(\"\\n\\033[1mDummy Encoding on features:\\033[0m\")\n",
    "        print(i);dm=False\n",
    "        df3 = pd.concat([df3.drop([i], axis=1), pd.DataFrame(pd.get_dummies(df3[i], drop_first=True, prefix=str(i)))],axis=1)\n",
    "        \n",
    "df3.shape"
   ]
  },
  {
   "cell_type": "code",
   "execution_count": 15,
   "id": "e15e97e3",
   "metadata": {
    "execution": {
     "iopub.execute_input": "2022-02-04T20:55:21.558325Z",
     "iopub.status.busy": "2022-02-04T20:55:21.557418Z",
     "iopub.status.idle": "2022-02-04T20:55:21.781421Z",
     "shell.execute_reply": "2022-02-04T20:55:21.780842Z",
     "shell.execute_reply.started": "2022-02-04T20:44:47.637883Z"
    },
    "id": "65b4c8b5",
    "outputId": "5a40039b-f559-4ec6-812b-d425f6b268bc",
    "papermill": {
     "duration": 0.303492,
     "end_time": "2022-02-04T20:55:21.781568",
     "exception": false,
     "start_time": "2022-02-04T20:55:21.478076",
     "status": "completed"
    },
    "tags": []
   },
   "outputs": [
    {
     "data": {
      "text/html": [
       "<div>\n",
       "<style scoped>\n",
       "    .dataframe tbody tr th:only-of-type {\n",
       "        vertical-align: middle;\n",
       "    }\n",
       "\n",
       "    .dataframe tbody tr th {\n",
       "        vertical-align: top;\n",
       "    }\n",
       "\n",
       "    .dataframe thead th {\n",
       "        text-align: right;\n",
       "    }\n",
       "</style>\n",
       "<table border=\"1\" class=\"dataframe\">\n",
       "  <thead>\n",
       "    <tr style=\"text-align: right;\">\n",
       "      <th></th>\n",
       "      <th>Credit_Worthiness</th>\n",
       "      <th>open_credit</th>\n",
       "      <th>business_or_commercial</th>\n",
       "      <th>loan_amount</th>\n",
       "      <th>term</th>\n",
       "      <th>interest_only</th>\n",
       "      <th>lump_sum_payment</th>\n",
       "      <th>Secured_by</th>\n",
       "      <th>Credit_Score</th>\n",
       "      <th>Status</th>\n",
       "      <th>loan_type_type2</th>\n",
       "      <th>loan_type_type3</th>\n",
       "      <th>total_units_2U</th>\n",
       "      <th>total_units_3U</th>\n",
       "      <th>total_units_4U</th>\n",
       "      <th>Region_North-East</th>\n",
       "      <th>Region_central</th>\n",
       "      <th>Region_south</th>\n",
       "      <th>Gender_Joint</th>\n",
       "      <th>Gender_Male</th>\n",
       "      <th>Gender_Sex Not Available</th>\n",
       "    </tr>\n",
       "  </thead>\n",
       "  <tbody>\n",
       "    <tr>\n",
       "      <th>0</th>\n",
       "      <td>0</td>\n",
       "      <td>0</td>\n",
       "      <td>1</td>\n",
       "      <td>116500.0</td>\n",
       "      <td>360.0</td>\n",
       "      <td>1</td>\n",
       "      <td>1</td>\n",
       "      <td>0</td>\n",
       "      <td>758.0</td>\n",
       "      <td>0</td>\n",
       "      <td>0</td>\n",
       "      <td>0</td>\n",
       "      <td>0</td>\n",
       "      <td>0</td>\n",
       "      <td>0</td>\n",
       "      <td>0</td>\n",
       "      <td>0</td>\n",
       "      <td>1</td>\n",
       "      <td>0</td>\n",
       "      <td>0</td>\n",
       "      <td>1</td>\n",
       "    </tr>\n",
       "    <tr>\n",
       "      <th>1</th>\n",
       "      <td>0</td>\n",
       "      <td>0</td>\n",
       "      <td>0</td>\n",
       "      <td>206500.0</td>\n",
       "      <td>360.0</td>\n",
       "      <td>1</td>\n",
       "      <td>0</td>\n",
       "      <td>0</td>\n",
       "      <td>552.0</td>\n",
       "      <td>0</td>\n",
       "      <td>1</td>\n",
       "      <td>0</td>\n",
       "      <td>0</td>\n",
       "      <td>0</td>\n",
       "      <td>0</td>\n",
       "      <td>0</td>\n",
       "      <td>0</td>\n",
       "      <td>0</td>\n",
       "      <td>0</td>\n",
       "      <td>1</td>\n",
       "      <td>0</td>\n",
       "    </tr>\n",
       "    <tr>\n",
       "      <th>2</th>\n",
       "      <td>0</td>\n",
       "      <td>0</td>\n",
       "      <td>1</td>\n",
       "      <td>406500.0</td>\n",
       "      <td>360.0</td>\n",
       "      <td>1</td>\n",
       "      <td>1</td>\n",
       "      <td>0</td>\n",
       "      <td>834.0</td>\n",
       "      <td>1</td>\n",
       "      <td>0</td>\n",
       "      <td>0</td>\n",
       "      <td>0</td>\n",
       "      <td>0</td>\n",
       "      <td>0</td>\n",
       "      <td>0</td>\n",
       "      <td>0</td>\n",
       "      <td>1</td>\n",
       "      <td>0</td>\n",
       "      <td>1</td>\n",
       "      <td>0</td>\n",
       "    </tr>\n",
       "    <tr>\n",
       "      <th>3</th>\n",
       "      <td>0</td>\n",
       "      <td>0</td>\n",
       "      <td>1</td>\n",
       "      <td>456500.0</td>\n",
       "      <td>360.0</td>\n",
       "      <td>1</td>\n",
       "      <td>1</td>\n",
       "      <td>0</td>\n",
       "      <td>587.0</td>\n",
       "      <td>1</td>\n",
       "      <td>0</td>\n",
       "      <td>0</td>\n",
       "      <td>0</td>\n",
       "      <td>0</td>\n",
       "      <td>0</td>\n",
       "      <td>0</td>\n",
       "      <td>0</td>\n",
       "      <td>0</td>\n",
       "      <td>0</td>\n",
       "      <td>1</td>\n",
       "      <td>0</td>\n",
       "    </tr>\n",
       "    <tr>\n",
       "      <th>4</th>\n",
       "      <td>0</td>\n",
       "      <td>0</td>\n",
       "      <td>1</td>\n",
       "      <td>696500.0</td>\n",
       "      <td>360.0</td>\n",
       "      <td>1</td>\n",
       "      <td>1</td>\n",
       "      <td>0</td>\n",
       "      <td>602.0</td>\n",
       "      <td>1</td>\n",
       "      <td>0</td>\n",
       "      <td>0</td>\n",
       "      <td>0</td>\n",
       "      <td>0</td>\n",
       "      <td>0</td>\n",
       "      <td>0</td>\n",
       "      <td>0</td>\n",
       "      <td>0</td>\n",
       "      <td>1</td>\n",
       "      <td>0</td>\n",
       "      <td>0</td>\n",
       "    </tr>\n",
       "  </tbody>\n",
       "</table>\n",
       "</div>"
      ],
      "text/plain": [
       "   Credit_Worthiness  open_credit  business_or_commercial  loan_amount   term  \\\n",
       "0                  0            0                       1     116500.0  360.0   \n",
       "1                  0            0                       0     206500.0  360.0   \n",
       "2                  0            0                       1     406500.0  360.0   \n",
       "3                  0            0                       1     456500.0  360.0   \n",
       "4                  0            0                       1     696500.0  360.0   \n",
       "\n",
       "   interest_only  lump_sum_payment  Secured_by  Credit_Score  Status  \\\n",
       "0              1                 1           0         758.0       0   \n",
       "1              1                 0           0         552.0       0   \n",
       "2              1                 1           0         834.0       1   \n",
       "3              1                 1           0         587.0       1   \n",
       "4              1                 1           0         602.0       1   \n",
       "\n",
       "   loan_type_type2  loan_type_type3  total_units_2U  total_units_3U  \\\n",
       "0                0                0               0               0   \n",
       "1                1                0               0               0   \n",
       "2                0                0               0               0   \n",
       "3                0                0               0               0   \n",
       "4                0                0               0               0   \n",
       "\n",
       "   total_units_4U  Region_North-East  Region_central  Region_south  \\\n",
       "0               0                  0               0             1   \n",
       "1               0                  0               0             0   \n",
       "2               0                  0               0             1   \n",
       "3               0                  0               0             0   \n",
       "4               0                  0               0             0   \n",
       "\n",
       "   Gender_Joint  Gender_Male  Gender_Sex Not Available  \n",
       "0             0            0                         1  \n",
       "1             0            1                         0  \n",
       "2             0            1                         0  \n",
       "3             0            1                         0  \n",
       "4             1            0                         0  "
      ]
     },
     "metadata": {},
     "output_type": "display_data"
    },
    {
     "name": "stdout",
     "output_type": "stream",
     "text": [
      "\n",
      "\u001b[1mInference:\u001b[0m Before removal of outliers, The dataset had 148670 samples.\n",
      "\u001b[1mInference:\u001b[0m After removal of outliers, The dataset now has 120695 samples.\n"
     ]
    }
   ],
   "source": [
    "#Removal of outlier:\n",
    "\n",
    "df4 = df3.copy()\n",
    "\n",
    "for i in [i for i in df4.columns]:\n",
    "    if df4[i].nunique()>=12:\n",
    "        Q1 = df4[i].quantile(0.20)\n",
    "        Q3 = df4[i].quantile(0.80)\n",
    "        IQR = Q3 - Q1\n",
    "        df4 = df4[df4[i] <= (Q3+(1.5*IQR))]\n",
    "        df4 = df4[df4[i] >= (Q1-(1.5*IQR))]\n",
    "df4 = df4.reset_index(drop=True)\n",
    "display(df4.head())\n",
    "print('\\n\\033[1mInference:\\033[0m Before removal of outliers, The dataset had {} samples.'.format(df1.shape[0]))\n",
    "print('\\033[1mInference:\\033[0m After removal of outliers, The dataset now has {} samples.'.format(df4.shape[0]))"
   ]
  },
  {
   "cell_type": "code",
   "execution_count": 16,
   "id": "e06a2753",
   "metadata": {
    "execution": {
     "iopub.execute_input": "2022-02-04T20:55:21.934712Z",
     "iopub.status.busy": "2022-02-04T20:55:21.933876Z",
     "iopub.status.idle": "2022-02-04T20:55:23.259240Z",
     "shell.execute_reply": "2022-02-04T20:55:23.259814Z",
     "shell.execute_reply.started": "2022-02-04T20:44:47.876194Z"
    },
    "id": "5434312b",
    "outputId": "41a8a440-2d4a-45bb-a6fc-daddd82096b3",
    "papermill": {
     "duration": 1.406906,
     "end_time": "2022-02-04T20:55:23.260012",
     "exception": false,
     "start_time": "2022-02-04T20:55:21.853106",
     "status": "completed"
    },
    "tags": []
   },
   "outputs": [
    {
     "name": "stdout",
     "output_type": "stream",
     "text": [
      "Original class distribution:\n",
      "1    91699\n",
      "0    28996\n",
      "Name: Status, dtype: int64\n",
      "\n",
      "Class distribution after applying SMOTE Technique:\n",
      "0    91699\n",
      "1    91699\n",
      "Name: Status, dtype: int64\n"
     ]
    }
   ],
   "source": [
    "#Fixing the imbalance using SMOTE Technique\n",
    "\n",
    "df5 = df4.copy()\n",
    "\n",
    "print('Original class distribution:')\n",
    "print(df5[target].value_counts())\n",
    "\n",
    "xf = df5.columns\n",
    "X = df5.drop([target],axis=1)\n",
    "Y = df5[target]\n",
    "\n",
    "smote = SMOTE()\n",
    "X, Y = smote.fit_resample(X, Y)\n",
    "\n",
    "df5 = pd.DataFrame(X, columns=xf)\n",
    "df5[target] = Y\n",
    "\n",
    "print('\\nClass distribution after applying SMOTE Technique:',)\n",
    "print(Y.value_counts())"
   ]
  },
  {
   "cell_type": "code",
   "execution_count": 17,
   "id": "1d070018",
   "metadata": {
    "execution": {
     "iopub.execute_input": "2022-02-04T20:55:23.411655Z",
     "iopub.status.busy": "2022-02-04T20:55:23.410860Z",
     "iopub.status.idle": "2022-02-04T20:55:23.618805Z",
     "shell.execute_reply": "2022-02-04T20:55:23.617905Z",
     "shell.execute_reply.started": "2022-02-04T20:44:49.468079Z"
    },
    "id": "afcceb4f",
    "outputId": "2c262ee8-acfe-4943-ae12-fd6c45905277",
    "papermill": {
     "duration": 0.284917,
     "end_time": "2022-02-04T20:55:23.619021",
     "exception": false,
     "start_time": "2022-02-04T20:55:23.334104",
     "status": "completed"
    },
    "tags": []
   },
   "outputs": [
    {
     "data": {
      "image/png": "[encoded data removed]",
      "text/plain": [
       "<Figure size 720x432 with 1 Axes>"
      ]
     },
     "metadata": {},
     "output_type": "display_data"
    },
    {
     "name": "stdout",
     "output_type": "stream",
     "text": [
      "\n",
      "\u001b[1mInference:\u001b[0mThe final dataset after cleanup has 183398 samples & 21 columns.\n"
     ]
    }
   ],
   "source": [
    "#Final Dataset size after performing Preprocessing\n",
    "\n",
    "df = df5.copy()\n",
    "plt.title('Final Dataset Samples')\n",
    "plt.pie([df.shape[0], original_df.shape[0]-df4.shape[0], df5.shape[0]-df4.shape[0]], radius = 1, shadow=True,\n",
    "        labels=['Retained','Dropped','Augmented'], counterclock=False, autopct='%1.1f%%', pctdistance=0.9, explode=[0,0,0])\n",
    "plt.pie([df.shape[0]], labels=['100%'], labeldistance=-0, radius=0.78, shadow=True, colors=['powderblue'])\n",
    "plt.show()\n",
    "\n",
    "print('\\n\\033[1mInference:\\033[0mThe final dataset after cleanup has {} samples & {} columns.'.format(df.shape[0], df.shape[1]))"
   ]
  },
  {
   "cell_type": "markdown",
   "id": "46d12861",
   "metadata": {
    "id": "9c9b4be0",
    "papermill": {
     "duration": 0.076754,
     "end_time": "2022-02-04T20:55:23.802478",
     "exception": false,
     "start_time": "2022-02-04T20:55:23.725724",
     "status": "completed"
    },
    "tags": []
   },
   "source": [
    "---"
   ]
  },
  {
   "cell_type": "markdown",
   "id": "44de4119",
   "metadata": {
    "id": "1088fde8",
    "papermill": {
     "duration": 0.079921,
     "end_time": "2022-02-04T20:55:23.959042",
     "exception": false,
     "start_time": "2022-02-04T20:55:23.879121",
     "status": "completed"
    },
    "tags": []
   },
   "source": [
    "# <center> 4. Data Manipulation"
   ]
  },
  {
   "cell_type": "code",
   "execution_count": 18,
   "id": "00181825",
   "metadata": {
    "execution": {
     "iopub.execute_input": "2022-02-04T20:55:24.126765Z",
     "iopub.status.busy": "2022-02-04T20:55:24.126017Z",
     "iopub.status.idle": "2022-02-04T20:55:24.189872Z",
     "shell.execute_reply": "2022-02-04T20:55:24.189310Z",
     "shell.execute_reply.started": "2022-02-04T20:44:49.657519Z"
    },
    "id": "35eca1d5",
    "outputId": "08959220-f0c6-4844-bcad-088fc70aa58c",
    "papermill": {
     "duration": 0.148263,
     "end_time": "2022-02-04T20:55:24.190020",
     "exception": false,
     "start_time": "2022-02-04T20:55:24.041757",
     "status": "completed"
    },
    "tags": []
   },
   "outputs": [
    {
     "name": "stdout",
     "output_type": "stream",
     "text": [
      "Original set  --->  (183398, 20) (183398,) \n",
      "Training set  --->  (146718, 20) (146718,) \n",
      "Testing set   --->  (36680, 20)  (36680,)\n"
     ]
    }
   ],
   "source": [
    "#Splitting the data intro training & testing sets\n",
    "\n",
    "df = df5.copy()\n",
    "\n",
    "X = df.drop([target],axis=1)\n",
    "Y = df[target]\n",
    "Train_X, Test_X, Train_Y, Test_Y = train_test_split(X, Y, train_size=0.8, test_size=0.2, random_state=0)\n",
    "\n",
    "print('Original set  ---> ',X.shape,Y.shape,'\\nTraining set  ---> ',Train_X.shape,Train_Y.shape,'\\nTesting set   ---> ', Test_X.shape,'', Test_Y.shape)"
   ]
  },
  {
   "cell_type": "code",
   "execution_count": 19,
   "id": "c08e0987",
   "metadata": {
    "execution": {
     "iopub.execute_input": "2022-02-04T20:55:24.350854Z",
     "iopub.status.busy": "2022-02-04T20:55:24.350135Z",
     "iopub.status.idle": "2022-02-04T20:55:24.746004Z",
     "shell.execute_reply": "2022-02-04T20:55:24.746527Z",
     "shell.execute_reply.started": "2022-02-04T20:44:49.739204Z"
    },
    "id": "a4975ac6",
    "outputId": "ac976b84-dbcd-4e54-ae87-9e189b2fc167",
    "papermill": {
     "duration": 0.480592,
     "end_time": "2022-02-04T20:55:24.746715",
     "exception": false,
     "start_time": "2022-02-04T20:55:24.266123",
     "status": "completed"
    },
    "tags": []
   },
   "outputs": [
    {
     "name": "stdout",
     "output_type": "stream",
     "text": [
      "                               \u001b[1mStandardardization on Training set                               \n"
     ]
    },
    {
     "data": {
      "text/html": [
       "<div>\n",
       "<style scoped>\n",
       "    .dataframe tbody tr th:only-of-type {\n",
       "        vertical-align: middle;\n",
       "    }\n",
       "\n",
       "    .dataframe tbody tr th {\n",
       "        vertical-align: top;\n",
       "    }\n",
       "\n",
       "    .dataframe thead th {\n",
       "        text-align: right;\n",
       "    }\n",
       "</style>\n",
       "<table border=\"1\" class=\"dataframe\">\n",
       "  <thead>\n",
       "    <tr style=\"text-align: right;\">\n",
       "      <th></th>\n",
       "      <th>Credit_Worthiness</th>\n",
       "      <th>open_credit</th>\n",
       "      <th>business_or_commercial</th>\n",
       "      <th>loan_amount</th>\n",
       "      <th>term</th>\n",
       "      <th>interest_only</th>\n",
       "      <th>lump_sum_payment</th>\n",
       "      <th>Secured_by</th>\n",
       "      <th>Credit_Score</th>\n",
       "      <th>loan_type_type2</th>\n",
       "      <th>loan_type_type3</th>\n",
       "      <th>total_units_2U</th>\n",
       "      <th>total_units_3U</th>\n",
       "      <th>total_units_4U</th>\n",
       "      <th>Region_North-East</th>\n",
       "      <th>Region_central</th>\n",
       "      <th>Region_south</th>\n",
       "      <th>Gender_Joint</th>\n",
       "      <th>Gender_Male</th>\n",
       "      <th>Gender_Sex Not Available</th>\n",
       "    </tr>\n",
       "  </thead>\n",
       "  <tbody>\n",
       "    <tr>\n",
       "      <th>count</th>\n",
       "      <td>1.467180e+05</td>\n",
       "      <td>1.467180e+05</td>\n",
       "      <td>1.467180e+05</td>\n",
       "      <td>1.467180e+05</td>\n",
       "      <td>146718.0</td>\n",
       "      <td>1.467180e+05</td>\n",
       "      <td>1.467180e+05</td>\n",
       "      <td>1.467180e+05</td>\n",
       "      <td>1.467180e+05</td>\n",
       "      <td>1.467180e+05</td>\n",
       "      <td>1.467180e+05</td>\n",
       "      <td>1.467180e+05</td>\n",
       "      <td>1.467180e+05</td>\n",
       "      <td>1.467180e+05</td>\n",
       "      <td>1.467180e+05</td>\n",
       "      <td>1.467180e+05</td>\n",
       "      <td>1.467180e+05</td>\n",
       "      <td>1.467180e+05</td>\n",
       "      <td>1.467180e+05</td>\n",
       "      <td>1.467180e+05</td>\n",
       "    </tr>\n",
       "    <tr>\n",
       "      <th>mean</th>\n",
       "      <td>-2.712032e-18</td>\n",
       "      <td>-5.859927e-18</td>\n",
       "      <td>-1.495492e-16</td>\n",
       "      <td>-1.457717e-17</td>\n",
       "      <td>0.0</td>\n",
       "      <td>-4.896187e-17</td>\n",
       "      <td>5.719482e-17</td>\n",
       "      <td>-1.017012e-18</td>\n",
       "      <td>1.597193e-16</td>\n",
       "      <td>4.327144e-17</td>\n",
       "      <td>-4.930087e-17</td>\n",
       "      <td>7.748663e-19</td>\n",
       "      <td>9.734258e-18</td>\n",
       "      <td>1.912951e-17</td>\n",
       "      <td>6.780080e-18</td>\n",
       "      <td>1.946852e-17</td>\n",
       "      <td>2.702346e-17</td>\n",
       "      <td>-9.247545e-17</td>\n",
       "      <td>7.458088e-17</td>\n",
       "      <td>1.380231e-17</td>\n",
       "    </tr>\n",
       "    <tr>\n",
       "      <th>std</th>\n",
       "      <td>1.000003e+00</td>\n",
       "      <td>1.000003e+00</td>\n",
       "      <td>1.000003e+00</td>\n",
       "      <td>1.000003e+00</td>\n",
       "      <td>0.0</td>\n",
       "      <td>1.000003e+00</td>\n",
       "      <td>1.000003e+00</td>\n",
       "      <td>1.000003e+00</td>\n",
       "      <td>1.000003e+00</td>\n",
       "      <td>1.000003e+00</td>\n",
       "      <td>1.000003e+00</td>\n",
       "      <td>1.000003e+00</td>\n",
       "      <td>1.000003e+00</td>\n",
       "      <td>1.000003e+00</td>\n",
       "      <td>1.000003e+00</td>\n",
       "      <td>1.000003e+00</td>\n",
       "      <td>1.000003e+00</td>\n",
       "      <td>1.000003e+00</td>\n",
       "      <td>1.000003e+00</td>\n",
       "      <td>1.000003e+00</td>\n",
       "    </tr>\n",
       "    <tr>\n",
       "      <th>min</th>\n",
       "      <td>-1.573994e-01</td>\n",
       "      <td>-5.427949e-02</td>\n",
       "      <td>-1.918566e+00</td>\n",
       "      <td>-1.832383e+00</td>\n",
       "      <td>0.0</td>\n",
       "      <td>-3.895205e+00</td>\n",
       "      <td>-3.929952e+00</td>\n",
       "      <td>-1.305465e-02</td>\n",
       "      <td>-1.719056e+00</td>\n",
       "      <td>-3.808355e-01</td>\n",
       "      <td>-2.891598e-01</td>\n",
       "      <td>-8.477871e-02</td>\n",
       "      <td>-4.213375e-02</td>\n",
       "      <td>-3.776948e-02</td>\n",
       "      <td>-7.487710e-02</td>\n",
       "      <td>-2.087234e-01</td>\n",
       "      <td>-7.469689e-01</td>\n",
       "      <td>-5.153282e-01</td>\n",
       "      <td>-5.427787e-01</td>\n",
       "      <td>-4.926020e-01</td>\n",
       "    </tr>\n",
       "    <tr>\n",
       "      <th>25%</th>\n",
       "      <td>-1.573994e-01</td>\n",
       "      <td>-5.427949e-02</td>\n",
       "      <td>5.212226e-01</td>\n",
       "      <td>-7.417674e-01</td>\n",
       "      <td>0.0</td>\n",
       "      <td>2.567259e-01</td>\n",
       "      <td>2.544561e-01</td>\n",
       "      <td>-1.305465e-02</td>\n",
       "      <td>-8.662439e-01</td>\n",
       "      <td>-3.808355e-01</td>\n",
       "      <td>-2.891598e-01</td>\n",
       "      <td>-8.477871e-02</td>\n",
       "      <td>-4.213375e-02</td>\n",
       "      <td>-3.776948e-02</td>\n",
       "      <td>-7.487710e-02</td>\n",
       "      <td>-2.087234e-01</td>\n",
       "      <td>-7.469689e-01</td>\n",
       "      <td>-5.153282e-01</td>\n",
       "      <td>-5.427787e-01</td>\n",
       "      <td>-4.926020e-01</td>\n",
       "    </tr>\n",
       "    <tr>\n",
       "      <th>50%</th>\n",
       "      <td>-1.573994e-01</td>\n",
       "      <td>-5.427949e-02</td>\n",
       "      <td>5.212226e-01</td>\n",
       "      <td>-1.530663e-01</td>\n",
       "      <td>0.0</td>\n",
       "      <td>2.567259e-01</td>\n",
       "      <td>2.544561e-01</td>\n",
       "      <td>-1.305465e-02</td>\n",
       "      <td>-4.817457e-03</td>\n",
       "      <td>-3.808355e-01</td>\n",
       "      <td>-2.891598e-01</td>\n",
       "      <td>-8.477871e-02</td>\n",
       "      <td>-4.213375e-02</td>\n",
       "      <td>-3.776948e-02</td>\n",
       "      <td>-7.487710e-02</td>\n",
       "      <td>-2.087234e-01</td>\n",
       "      <td>-7.469689e-01</td>\n",
       "      <td>-5.153282e-01</td>\n",
       "      <td>-5.427787e-01</td>\n",
       "      <td>-4.926020e-01</td>\n",
       "    </tr>\n",
       "    <tr>\n",
       "      <th>75%</th>\n",
       "      <td>-1.573994e-01</td>\n",
       "      <td>-5.427949e-02</td>\n",
       "      <td>5.212226e-01</td>\n",
       "      <td>6.711153e-01</td>\n",
       "      <td>0.0</td>\n",
       "      <td>2.567259e-01</td>\n",
       "      <td>2.544561e-01</td>\n",
       "      <td>-1.305465e-02</td>\n",
       "      <td>8.689663e-01</td>\n",
       "      <td>-3.808355e-01</td>\n",
       "      <td>-2.891598e-01</td>\n",
       "      <td>-8.477871e-02</td>\n",
       "      <td>-4.213375e-02</td>\n",
       "      <td>-3.776948e-02</td>\n",
       "      <td>-7.487710e-02</td>\n",
       "      <td>-2.087234e-01</td>\n",
       "      <td>1.338744e+00</td>\n",
       "      <td>-5.153282e-01</td>\n",
       "      <td>-5.427787e-01</td>\n",
       "      <td>-4.926020e-01</td>\n",
       "    </tr>\n",
       "    <tr>\n",
       "      <th>max</th>\n",
       "      <td>6.353264e+00</td>\n",
       "      <td>1.842316e+01</td>\n",
       "      <td>5.212226e-01</td>\n",
       "      <td>3.496881e+00</td>\n",
       "      <td>0.0</td>\n",
       "      <td>2.567259e-01</td>\n",
       "      <td>2.544561e-01</td>\n",
       "      <td>7.660104e+01</td>\n",
       "      <td>1.726650e+00</td>\n",
       "      <td>2.625806e+00</td>\n",
       "      <td>3.458296e+00</td>\n",
       "      <td>1.179541e+01</td>\n",
       "      <td>2.373394e+01</td>\n",
       "      <td>2.647640e+01</td>\n",
       "      <td>1.335522e+01</td>\n",
       "      <td>4.791029e+00</td>\n",
       "      <td>1.338744e+00</td>\n",
       "      <td>1.940511e+00</td>\n",
       "      <td>1.842372e+00</td>\n",
       "      <td>2.030036e+00</td>\n",
       "    </tr>\n",
       "  </tbody>\n",
       "</table>\n",
       "</div>"
      ],
      "text/plain": [
       "       Credit_Worthiness   open_credit  business_or_commercial   loan_amount  \\\n",
       "count       1.467180e+05  1.467180e+05            1.467180e+05  1.467180e+05   \n",
       "mean       -2.712032e-18 -5.859927e-18           -1.495492e-16 -1.457717e-17   \n",
       "std         1.000003e+00  1.000003e+00            1.000003e+00  1.000003e+00   \n",
       "min        -1.573994e-01 -5.427949e-02           -1.918566e+00 -1.832383e+00   \n",
       "25%        -1.573994e-01 -5.427949e-02            5.212226e-01 -7.417674e-01   \n",
       "50%        -1.573994e-01 -5.427949e-02            5.212226e-01 -1.530663e-01   \n",
       "75%        -1.573994e-01 -5.427949e-02            5.212226e-01  6.711153e-01   \n",
       "max         6.353264e+00  1.842316e+01            5.212226e-01  3.496881e+00   \n",
       "\n",
       "           term  interest_only  lump_sum_payment    Secured_by  Credit_Score  \\\n",
       "count  146718.0   1.467180e+05      1.467180e+05  1.467180e+05  1.467180e+05   \n",
       "mean        0.0  -4.896187e-17      5.719482e-17 -1.017012e-18  1.597193e-16   \n",
       "std         0.0   1.000003e+00      1.000003e+00  1.000003e+00  1.000003e+00   \n",
       "min         0.0  -3.895205e+00     -3.929952e+00 -1.305465e-02 -1.719056e+00   \n",
       "25%         0.0   2.567259e-01      2.544561e-01 -1.305465e-02 -8.662439e-01   \n",
       "50%         0.0   2.567259e-01      2.544561e-01 -1.305465e-02 -4.817457e-03   \n",
       "75%         0.0   2.567259e-01      2.544561e-01 -1.305465e-02  8.689663e-01   \n",
       "max         0.0   2.567259e-01      2.544561e-01  7.660104e+01  1.726650e+00   \n",
       "\n",
       "       loan_type_type2  loan_type_type3  total_units_2U  total_units_3U  \\\n",
       "count     1.467180e+05     1.467180e+05    1.467180e+05    1.467180e+05   \n",
       "mean      4.327144e-17    -4.930087e-17    7.748663e-19    9.734258e-18   \n",
       "std       1.000003e+00     1.000003e+00    1.000003e+00    1.000003e+00   \n",
       "min      -3.808355e-01    -2.891598e-01   -8.477871e-02   -4.213375e-02   \n",
       "25%      -3.808355e-01    -2.891598e-01   -8.477871e-02   -4.213375e-02   \n",
       "50%      -3.808355e-01    -2.891598e-01   -8.477871e-02   -4.213375e-02   \n",
       "75%      -3.808355e-01    -2.891598e-01   -8.477871e-02   -4.213375e-02   \n",
       "max       2.625806e+00     3.458296e+00    1.179541e+01    2.373394e+01   \n",
       "\n",
       "       total_units_4U  Region_North-East  Region_central  Region_south  \\\n",
       "count    1.467180e+05       1.467180e+05    1.467180e+05  1.467180e+05   \n",
       "mean     1.912951e-17       6.780080e-18    1.946852e-17  2.702346e-17   \n",
       "std      1.000003e+00       1.000003e+00    1.000003e+00  1.000003e+00   \n",
       "min     -3.776948e-02      -7.487710e-02   -2.087234e-01 -7.469689e-01   \n",
       "25%     -3.776948e-02      -7.487710e-02   -2.087234e-01 -7.469689e-01   \n",
       "50%     -3.776948e-02      -7.487710e-02   -2.087234e-01 -7.469689e-01   \n",
       "75%     -3.776948e-02      -7.487710e-02   -2.087234e-01  1.338744e+00   \n",
       "max      2.647640e+01       1.335522e+01    4.791029e+00  1.338744e+00   \n",
       "\n",
       "       Gender_Joint   Gender_Male  Gender_Sex Not Available  \n",
       "count  1.467180e+05  1.467180e+05              1.467180e+05  \n",
       "mean  -9.247545e-17  7.458088e-17              1.380231e-17  \n",
       "std    1.000003e+00  1.000003e+00              1.000003e+00  \n",
       "min   -5.153282e-01 -5.427787e-01             -4.926020e-01  \n",
       "25%   -5.153282e-01 -5.427787e-01             -4.926020e-01  \n",
       "50%   -5.153282e-01 -5.427787e-01             -4.926020e-01  \n",
       "75%   -5.153282e-01 -5.427787e-01             -4.926020e-01  \n",
       "max    1.940511e+00  1.842372e+00              2.030036e+00  "
      ]
     },
     "metadata": {},
     "output_type": "display_data"
    },
    {
     "name": "stdout",
     "output_type": "stream",
     "text": [
      "\n",
      "                                \u001b[1mStandardardization on Testing set                                \n"
     ]
    },
    {
     "data": {
      "text/html": [
       "<div>\n",
       "<style scoped>\n",
       "    .dataframe tbody tr th:only-of-type {\n",
       "        vertical-align: middle;\n",
       "    }\n",
       "\n",
       "    .dataframe tbody tr th {\n",
       "        vertical-align: top;\n",
       "    }\n",
       "\n",
       "    .dataframe thead th {\n",
       "        text-align: right;\n",
       "    }\n",
       "</style>\n",
       "<table border=\"1\" class=\"dataframe\">\n",
       "  <thead>\n",
       "    <tr style=\"text-align: right;\">\n",
       "      <th></th>\n",
       "      <th>Credit_Worthiness</th>\n",
       "      <th>open_credit</th>\n",
       "      <th>business_or_commercial</th>\n",
       "      <th>loan_amount</th>\n",
       "      <th>term</th>\n",
       "      <th>interest_only</th>\n",
       "      <th>lump_sum_payment</th>\n",
       "      <th>Secured_by</th>\n",
       "      <th>Credit_Score</th>\n",
       "      <th>loan_type_type2</th>\n",
       "      <th>loan_type_type3</th>\n",
       "      <th>total_units_2U</th>\n",
       "      <th>total_units_3U</th>\n",
       "      <th>total_units_4U</th>\n",
       "      <th>Region_North-East</th>\n",
       "      <th>Region_central</th>\n",
       "      <th>Region_south</th>\n",
       "      <th>Gender_Joint</th>\n",
       "      <th>Gender_Male</th>\n",
       "      <th>Gender_Sex Not Available</th>\n",
       "    </tr>\n",
       "  </thead>\n",
       "  <tbody>\n",
       "    <tr>\n",
       "      <th>count</th>\n",
       "      <td>36680.000000</td>\n",
       "      <td>36680.000000</td>\n",
       "      <td>36680.000000</td>\n",
       "      <td>36680.000000</td>\n",
       "      <td>36680.0</td>\n",
       "      <td>36680.000000</td>\n",
       "      <td>36680.000000</td>\n",
       "      <td>36680.000000</td>\n",
       "      <td>36680.000000</td>\n",
       "      <td>36680.000000</td>\n",
       "      <td>36680.000000</td>\n",
       "      <td>36680.000000</td>\n",
       "      <td>36680.000000</td>\n",
       "      <td>36680.000000</td>\n",
       "      <td>36680.000000</td>\n",
       "      <td>36680.000000</td>\n",
       "      <td>36680.000000</td>\n",
       "      <td>36680.000000</td>\n",
       "      <td>36680.000000</td>\n",
       "      <td>36680.000000</td>\n",
       "    </tr>\n",
       "    <tr>\n",
       "      <th>mean</th>\n",
       "      <td>0.003060</td>\n",
       "      <td>0.004155</td>\n",
       "      <td>-0.006977</td>\n",
       "      <td>-0.007917</td>\n",
       "      <td>0.0</td>\n",
       "      <td>-0.005769</td>\n",
       "      <td>-0.004731</td>\n",
       "      <td>-0.008877</td>\n",
       "      <td>0.002505</td>\n",
       "      <td>0.008929</td>\n",
       "      <td>0.014887</td>\n",
       "      <td>0.001051</td>\n",
       "      <td>-0.006483</td>\n",
       "      <td>-0.002350</td>\n",
       "      <td>-0.002747</td>\n",
       "      <td>0.000372</td>\n",
       "      <td>0.001681</td>\n",
       "      <td>-0.005882</td>\n",
       "      <td>-0.006965</td>\n",
       "      <td>-0.001073</td>\n",
       "    </tr>\n",
       "    <tr>\n",
       "      <th>std</th>\n",
       "      <td>1.009443</td>\n",
       "      <td>1.037467</td>\n",
       "      <td>1.004852</td>\n",
       "      <td>0.995795</td>\n",
       "      <td>0.0</td>\n",
       "      <td>1.010439</td>\n",
       "      <td>1.008659</td>\n",
       "      <td>0.565722</td>\n",
       "      <td>1.000604</td>\n",
       "      <td>1.009948</td>\n",
       "      <td>1.023223</td>\n",
       "      <td>1.006151</td>\n",
       "      <td>0.919998</td>\n",
       "      <td>0.968450</td>\n",
       "      <td>0.981599</td>\n",
       "      <td>1.000866</td>\n",
       "      <td>1.000510</td>\n",
       "      <td>0.995796</td>\n",
       "      <td>0.995453</td>\n",
       "      <td>0.999188</td>\n",
       "    </tr>\n",
       "    <tr>\n",
       "      <th>min</th>\n",
       "      <td>-0.157399</td>\n",
       "      <td>-0.054279</td>\n",
       "      <td>-1.918566</td>\n",
       "      <td>-1.860299</td>\n",
       "      <td>0.0</td>\n",
       "      <td>-3.895205</td>\n",
       "      <td>-3.929952</td>\n",
       "      <td>-0.013055</td>\n",
       "      <td>-1.719056</td>\n",
       "      <td>-0.380835</td>\n",
       "      <td>-0.289160</td>\n",
       "      <td>-0.084779</td>\n",
       "      <td>-0.042134</td>\n",
       "      <td>-0.037769</td>\n",
       "      <td>-0.074877</td>\n",
       "      <td>-0.208723</td>\n",
       "      <td>-0.746969</td>\n",
       "      <td>-0.515328</td>\n",
       "      <td>-0.542779</td>\n",
       "      <td>-0.492602</td>\n",
       "    </tr>\n",
       "    <tr>\n",
       "      <th>25%</th>\n",
       "      <td>-0.157399</td>\n",
       "      <td>-0.054279</td>\n",
       "      <td>0.521223</td>\n",
       "      <td>-0.800637</td>\n",
       "      <td>0.0</td>\n",
       "      <td>0.256726</td>\n",
       "      <td>0.254456</td>\n",
       "      <td>-0.013055</td>\n",
       "      <td>-0.861936</td>\n",
       "      <td>-0.380835</td>\n",
       "      <td>-0.289160</td>\n",
       "      <td>-0.084779</td>\n",
       "      <td>-0.042134</td>\n",
       "      <td>-0.037769</td>\n",
       "      <td>-0.074877</td>\n",
       "      <td>-0.208723</td>\n",
       "      <td>-0.746969</td>\n",
       "      <td>-0.515328</td>\n",
       "      <td>-0.542779</td>\n",
       "      <td>-0.492602</td>\n",
       "    </tr>\n",
       "    <tr>\n",
       "      <th>50%</th>\n",
       "      <td>-0.157399</td>\n",
       "      <td>-0.054279</td>\n",
       "      <td>0.521223</td>\n",
       "      <td>-0.153066</td>\n",
       "      <td>0.0</td>\n",
       "      <td>0.256726</td>\n",
       "      <td>0.254456</td>\n",
       "      <td>-0.013055</td>\n",
       "      <td>0.003797</td>\n",
       "      <td>-0.380835</td>\n",
       "      <td>-0.289160</td>\n",
       "      <td>-0.084779</td>\n",
       "      <td>-0.042134</td>\n",
       "      <td>-0.037769</td>\n",
       "      <td>-0.074877</td>\n",
       "      <td>-0.208723</td>\n",
       "      <td>-0.746969</td>\n",
       "      <td>-0.515328</td>\n",
       "      <td>-0.542779</td>\n",
       "      <td>-0.492602</td>\n",
       "    </tr>\n",
       "    <tr>\n",
       "      <th>75%</th>\n",
       "      <td>-0.157399</td>\n",
       "      <td>-0.054279</td>\n",
       "      <td>0.521223</td>\n",
       "      <td>0.671115</td>\n",
       "      <td>0.0</td>\n",
       "      <td>0.256726</td>\n",
       "      <td>0.254456</td>\n",
       "      <td>-0.013055</td>\n",
       "      <td>0.873248</td>\n",
       "      <td>-0.380835</td>\n",
       "      <td>-0.289160</td>\n",
       "      <td>-0.084779</td>\n",
       "      <td>-0.042134</td>\n",
       "      <td>-0.037769</td>\n",
       "      <td>-0.074877</td>\n",
       "      <td>-0.208723</td>\n",
       "      <td>1.338744</td>\n",
       "      <td>-0.515328</td>\n",
       "      <td>-0.542779</td>\n",
       "      <td>-0.492602</td>\n",
       "    </tr>\n",
       "    <tr>\n",
       "      <th>max</th>\n",
       "      <td>6.353264</td>\n",
       "      <td>18.423165</td>\n",
       "      <td>0.521223</td>\n",
       "      <td>3.496881</td>\n",
       "      <td>0.0</td>\n",
       "      <td>0.256726</td>\n",
       "      <td>0.254456</td>\n",
       "      <td>76.601044</td>\n",
       "      <td>1.726650</td>\n",
       "      <td>2.625806</td>\n",
       "      <td>3.458296</td>\n",
       "      <td>11.795415</td>\n",
       "      <td>23.733942</td>\n",
       "      <td>26.476405</td>\n",
       "      <td>13.355218</td>\n",
       "      <td>4.791029</td>\n",
       "      <td>1.338744</td>\n",
       "      <td>1.940511</td>\n",
       "      <td>1.842372</td>\n",
       "      <td>2.030036</td>\n",
       "    </tr>\n",
       "  </tbody>\n",
       "</table>\n",
       "</div>"
      ],
      "text/plain": [
       "       Credit_Worthiness   open_credit  business_or_commercial   loan_amount  \\\n",
       "count       36680.000000  36680.000000            36680.000000  36680.000000   \n",
       "mean            0.003060      0.004155               -0.006977     -0.007917   \n",
       "std             1.009443      1.037467                1.004852      0.995795   \n",
       "min            -0.157399     -0.054279               -1.918566     -1.860299   \n",
       "25%            -0.157399     -0.054279                0.521223     -0.800637   \n",
       "50%            -0.157399     -0.054279                0.521223     -0.153066   \n",
       "75%            -0.157399     -0.054279                0.521223      0.671115   \n",
       "max             6.353264     18.423165                0.521223      3.496881   \n",
       "\n",
       "          term  interest_only  lump_sum_payment    Secured_by  Credit_Score  \\\n",
       "count  36680.0   36680.000000      36680.000000  36680.000000  36680.000000   \n",
       "mean       0.0      -0.005769         -0.004731     -0.008877      0.002505   \n",
       "std        0.0       1.010439          1.008659      0.565722      1.000604   \n",
       "min        0.0      -3.895205         -3.929952     -0.013055     -1.719056   \n",
       "25%        0.0       0.256726          0.254456     -0.013055     -0.861936   \n",
       "50%        0.0       0.256726          0.254456     -0.013055      0.003797   \n",
       "75%        0.0       0.256726          0.254456     -0.013055      0.873248   \n",
       "max        0.0       0.256726          0.254456     76.601044      1.726650   \n",
       "\n",
       "       loan_type_type2  loan_type_type3  total_units_2U  total_units_3U  \\\n",
       "count     36680.000000     36680.000000    36680.000000    36680.000000   \n",
       "mean          0.008929         0.014887        0.001051       -0.006483   \n",
       "std           1.009948         1.023223        1.006151        0.919998   \n",
       "min          -0.380835        -0.289160       -0.084779       -0.042134   \n",
       "25%          -0.380835        -0.289160       -0.084779       -0.042134   \n",
       "50%          -0.380835        -0.289160       -0.084779       -0.042134   \n",
       "75%          -0.380835        -0.289160       -0.084779       -0.042134   \n",
       "max           2.625806         3.458296       11.795415       23.733942   \n",
       "\n",
       "       total_units_4U  Region_North-East  Region_central  Region_south  \\\n",
       "count    36680.000000       36680.000000    36680.000000  36680.000000   \n",
       "mean        -0.002350          -0.002747        0.000372      0.001681   \n",
       "std          0.968450           0.981599        1.000866      1.000510   \n",
       "min         -0.037769          -0.074877       -0.208723     -0.746969   \n",
       "25%         -0.037769          -0.074877       -0.208723     -0.746969   \n",
       "50%         -0.037769          -0.074877       -0.208723     -0.746969   \n",
       "75%         -0.037769          -0.074877       -0.208723      1.338744   \n",
       "max         26.476405          13.355218        4.791029      1.338744   \n",
       "\n",
       "       Gender_Joint   Gender_Male  Gender_Sex Not Available  \n",
       "count  36680.000000  36680.000000              36680.000000  \n",
       "mean      -0.005882     -0.006965                 -0.001073  \n",
       "std        0.995796      0.995453                  0.999188  \n",
       "min       -0.515328     -0.542779                 -0.492602  \n",
       "25%       -0.515328     -0.542779                 -0.492602  \n",
       "50%       -0.515328     -0.542779                 -0.492602  \n",
       "75%       -0.515328     -0.542779                 -0.492602  \n",
       "max        1.940511      1.842372                  2.030036  "
      ]
     },
     "metadata": {},
     "output_type": "display_data"
    }
   ],
   "source": [
    "#Feature Scaling (Standardization)\n",
    "\n",
    "std = StandardScaler()\n",
    "\n",
    "print('\\033[1mStandardardization on Training set'.center(100))\n",
    "Train_X_std = std.fit_transform(Train_X)\n",
    "Train_X_std = pd.DataFrame(Train_X_std, columns=X.columns)\n",
    "display(Train_X_std.describe())\n",
    "\n",
    "print('\\n','\\033[1mStandardardization on Testing set'.center(100))\n",
    "Test_X_std = std.transform(Test_X)\n",
    "Test_X_std = pd.DataFrame(Test_X_std, columns=X.columns)\n",
    "display(Test_X_std.describe())"
   ]
  },
  {
   "cell_type": "markdown",
   "id": "99243b6e",
   "metadata": {
    "id": "83dc6b40",
    "papermill": {
     "duration": 0.081195,
     "end_time": "2022-02-04T20:55:24.906476",
     "exception": false,
     "start_time": "2022-02-04T20:55:24.825281",
     "status": "completed"
    },
    "tags": []
   },
   "source": [
    "---"
   ]
  },
  {
   "cell_type": "markdown",
   "id": "77b5d671",
   "metadata": {
    "id": "8d444cab",
    "papermill": {
     "duration": 0.082911,
     "end_time": "2022-02-04T20:55:25.068712",
     "exception": false,
     "start_time": "2022-02-04T20:55:24.985801",
     "status": "completed"
    },
    "tags": []
   },
   "source": [
    "# <center> 5. Feature Selection/Extraction"
   ]
  },
  {
   "cell_type": "code",
   "execution_count": 20,
   "id": "799d374a",
   "metadata": {
    "execution": {
     "iopub.execute_input": "2022-02-04T20:55:25.257165Z",
     "iopub.status.busy": "2022-02-04T20:55:25.246743Z",
     "iopub.status.idle": "2022-02-04T20:55:26.577729Z",
     "shell.execute_reply": "2022-02-04T20:55:26.578274Z",
     "shell.execute_reply.started": "2022-01-29T16:17:47.746643Z"
    },
    "id": "d63e0ceb",
    "outputId": "eac7e7f7-5950-423d-f191-0ba96ac0f9f5",
    "papermill": {
     "duration": 1.428763,
     "end_time": "2022-02-04T20:55:26.578454",
     "exception": false,
     "start_time": "2022-02-04T20:55:25.149691",
     "status": "completed"
    },
    "tags": []
   },
   "outputs": [
    {
     "data": {
      "image/png": "[encoded data removed]",
      "text/plain": [
       "<Figure size 864x720 with 2 Axes>"
      ]
     },
     "metadata": {
      "needs_background": "light"
     },
     "output_type": "display_data"
    }
   ],
   "source": [
    "#Checking the correlation\n",
    "\n",
    "features = df.columns\n",
    "plt.figure(figsize=[12,10])\n",
    "plt.title('Features Correlation-Plot')\n",
    "sns.heatmap(df[features].corr(), vmin=-1, vmax=1, center=0) #, \n",
    "plt.show()"
   ]
  },
  {
   "cell_type": "markdown",
   "id": "a8657141",
   "metadata": {
    "id": "286c06ca",
    "papermill": {
     "duration": 0.118749,
     "end_time": "2022-02-04T22:12:54.768533",
     "exception": false,
     "start_time": "2022-02-04T22:12:54.649784",
     "status": "completed"
    },
    "tags": []
   },
   "source": [
    "# <center> 6. Predictive Modeling"
   ]
  },
  {
   "cell_type": "code",
   "execution_count": 22,
   "id": "739e5112",
   "metadata": {
    "execution": {
     "iopub.execute_input": "2022-02-04T22:12:55.017198Z",
     "iopub.status.busy": "2022-02-04T22:12:55.016481Z",
     "iopub.status.idle": "2022-02-04T22:12:55.019568Z",
     "shell.execute_reply": "2022-02-04T22:12:55.020040Z",
     "shell.execute_reply.started": "2022-02-04T20:44:54.871329Z"
    },
    "id": "dcc7ddf4",
    "outputId": "0a6819e7-eb1b-4621-ec69-13380967b6e6",
    "papermill": {
     "duration": 0.135309,
     "end_time": "2022-02-04T22:12:55.020219",
     "exception": false,
     "start_time": "2022-02-04T22:12:54.884910",
     "status": "completed"
    },
    "tags": []
   },
   "outputs": [
    {
     "data": {
      "text/html": [
       "<div>\n",
       "<style scoped>\n",
       "    .dataframe tbody tr th:only-of-type {\n",
       "        vertical-align: middle;\n",
       "    }\n",
       "\n",
       "    .dataframe tbody tr th {\n",
       "        vertical-align: top;\n",
       "    }\n",
       "\n",
       "    .dataframe thead th {\n",
       "        text-align: right;\n",
       "    }\n",
       "</style>\n",
       "<table border=\"1\" class=\"dataframe\">\n",
       "  <thead>\n",
       "    <tr style=\"text-align: right;\">\n",
       "      <th></th>\n",
       "      <th>Accuracy</th>\n",
       "      <th>Precision</th>\n",
       "      <th>Recall</th>\n",
       "      <th>F1-score</th>\n",
       "      <th>AUC-ROC score</th>\n",
       "    </tr>\n",
       "  </thead>\n",
       "  <tbody>\n",
       "    <tr>\n",
       "      <th>Logistic Regression (LR)</th>\n",
       "      <td>0.0</td>\n",
       "      <td>0.0</td>\n",
       "      <td>0.0</td>\n",
       "      <td>0.0</td>\n",
       "      <td>0.0</td>\n",
       "    </tr>\n",
       "    <tr>\n",
       "      <th>Decision Tree Classifier (DT)</th>\n",
       "      <td>0.0</td>\n",
       "      <td>0.0</td>\n",
       "      <td>0.0</td>\n",
       "      <td>0.0</td>\n",
       "      <td>0.0</td>\n",
       "    </tr>\n",
       "    <tr>\n",
       "      <th>Random Forest Classifier (RF)</th>\n",
       "      <td>0.0</td>\n",
       "      <td>0.0</td>\n",
       "      <td>0.0</td>\n",
       "      <td>0.0</td>\n",
       "      <td>0.0</td>\n",
       "    </tr>\n",
       "    <tr>\n",
       "      <th>Naïve Bayes Classifier (NB)</th>\n",
       "      <td>0.0</td>\n",
       "      <td>0.0</td>\n",
       "      <td>0.0</td>\n",
       "      <td>0.0</td>\n",
       "      <td>0.0</td>\n",
       "    </tr>\n",
       "  </tbody>\n",
       "</table>\n",
       "</div>"
      ],
      "text/plain": [
       "                               Accuracy  Precision  Recall  F1-score  \\\n",
       "Logistic Regression (LR)            0.0        0.0     0.0       0.0   \n",
       "Decision Tree Classifier (DT)       0.0        0.0     0.0       0.0   \n",
       "Random Forest Classifier (RF)       0.0        0.0     0.0       0.0   \n",
       "Naïve Bayes Classifier (NB)         0.0        0.0     0.0       0.0   \n",
       "\n",
       "                               AUC-ROC score  \n",
       "Logistic Regression (LR)                 0.0  \n",
       "Decision Tree Classifier (DT)            0.0  \n",
       "Random Forest Classifier (RF)            0.0  \n",
       "Naïve Bayes Classifier (NB)              0.0  "
      ]
     },
     "execution_count": 22,
     "metadata": {},
     "output_type": "execute_result"
    }
   ],
   "source": [
    "#Let us create first create a table to store the results of various models \n",
    "\n",
    "Evaluation_Results = pd.DataFrame(np.zeros((4,5)), columns=['Accuracy', 'Precision','Recall','F1-score','AUC-ROC score'])\n",
    "Evaluation_Results.index=['Logistic Regression (LR)','Decision Tree Classifier (DT)','Random Forest Classifier (RF)','Naïve Bayes Classifier (NB)']\n",
    "Evaluation_Results"
   ]
  },
  {
   "cell_type": "code",
   "execution_count": 23,
   "id": "2c3de098",
   "metadata": {
    "execution": {
     "iopub.execute_input": "2022-02-04T22:12:55.263853Z",
     "iopub.status.busy": "2022-02-04T22:12:55.263134Z",
     "iopub.status.idle": "2022-02-04T22:12:55.273233Z",
     "shell.execute_reply": "2022-02-04T22:12:55.272660Z",
     "shell.execute_reply.started": "2022-02-04T20:44:55.060179Z"
    },
    "id": "26577fca",
    "papermill": {
     "duration": 0.134182,
     "end_time": "2022-02-04T22:12:55.273388",
     "exception": false,
     "start_time": "2022-02-04T22:12:55.139206",
     "status": "completed"
    },
    "tags": []
   },
   "outputs": [],
   "source": [
    "#Let us define functions to summarise the Prediction's scores .\n",
    "\n",
    "#Classification Summary Function\n",
    "def Classification_Summary(pred,pred_prob,i):\n",
    "    Evaluation_Results.iloc[i]['Accuracy']=round(accuracy_score(Test_Y, pred),3)*100   \n",
    "    Evaluation_Results.iloc[i]['Precision']=round(precision_score(Test_Y, pred, average='weighted'),3)*100 #\n",
    "    Evaluation_Results.iloc[i]['Recall']=round(recall_score(Test_Y, pred, average='weighted'),3)*100 #\n",
    "    Evaluation_Results.iloc[i]['F1-score']=round(f1_score(Test_Y, pred, average='weighted'),3)*100 #\n",
    "    Evaluation_Results.iloc[i]['AUC-ROC score']=round(roc_auc_score(Test_Y, pred_prob[:, 1], multi_class='ovr'),3)*100 #[:, 1]\n",
    "    print('{}{}\\033[1m Evaluating {} \\033[0m{}{}\\n'.format('<'*3,'-'*25,Evaluation_Results.index[i], '-'*25,'>'*3))\n",
    "    print('Accuracy = {}%'.format(round(accuracy_score(Test_Y, pred),3)*100))\n",
    "    print('F1 Score = {}%'.format(round(f1_score(Test_Y, pred, average='weighted'),3)*100)) #\n",
    "    print('\\n \\033[1mConfusiton Matrix:\\033[0m\\n',confusion_matrix(Test_Y, pred))\n",
    "    print('\\n\\033[1mClassification Report:\\033[0m\\n',classification_report(Test_Y, pred))\n",
    "    \n",
    "    auc_roc(Test_Y, pred_prob, curves=['each_class'])\n",
    "    plt.show()\n",
    "\n",
    "#Visualising Function\n",
    "def AUC_ROC_plot(Test_Y, pred):    \n",
    "    ref = [0 for _ in range(len(Test_Y))]\n",
    "    ref_auc = roc_auc_score(Test_Y, ref)\n",
    "    lr_auc = roc_auc_score(Test_Y, pred)\n",
    "\n",
    "    ns_fpr, ns_tpr, _ = roc_curve(Test_Y, ref)\n",
    "    lr_fpr, lr_tpr, _ = roc_curve(Test_Y, pred)\n",
    "\n",
    "    plt.plot(ns_fpr, ns_tpr, linestyle='--')\n",
    "    plt.plot(lr_fpr, lr_tpr, marker='.', label='AUC = {}'.format(round(roc_auc_score(Test_Y, pred)*100,2))) \n",
    "    plt.xlabel('False Positive Rate')\n",
    "    plt.ylabel('True Positive Rate')\n",
    "    plt.legend()\n",
    "    plt.show()"
   ]
  },
  {
   "cell_type": "markdown",
   "id": "cd574033",
   "metadata": {
    "id": "5737ebe9",
    "papermill": {
     "duration": 0.115492,
     "end_time": "2022-02-04T22:12:55.505127",
     "exception": false,
     "start_time": "2022-02-04T22:12:55.389635",
     "status": "completed"
    },
    "tags": []
   },
   "source": [
    "---"
   ]
  },
  {
   "cell_type": "markdown",
   "id": "0baf41f5",
   "metadata": {
    "id": "77912773",
    "papermill": {
     "duration": 0.117592,
     "end_time": "2022-02-04T22:12:55.737199",
     "exception": false,
     "start_time": "2022-02-04T22:12:55.619607",
     "status": "completed"
    },
    "tags": []
   },
   "source": [
    "## 1. Logistic Regression:"
   ]
  },
  {
   "cell_type": "code",
   "execution_count": 24,
   "id": "2ab9e8d0",
   "metadata": {
    "execution": {
     "iopub.execute_input": "2022-02-04T22:12:55.978005Z",
     "iopub.status.busy": "2022-02-04T22:12:55.977276Z",
     "iopub.status.idle": "2022-02-04T22:12:57.295428Z",
     "shell.execute_reply": "2022-02-04T22:12:57.295896Z",
     "shell.execute_reply.started": "2022-02-04T20:44:59.150139Z"
    },
    "id": "6980327a",
    "outputId": "9a6fa6dd-f60f-4e24-ec4a-7261c86cb609",
    "papermill": {
     "duration": 1.443549,
     "end_time": "2022-02-04T22:12:57.296073",
     "exception": false,
     "start_time": "2022-02-04T22:12:55.852524",
     "status": "completed"
    },
    "tags": []
   },
   "outputs": [
    {
     "name": "stdout",
     "output_type": "stream",
     "text": [
      "<<<-------------------------\u001b[1m Evaluating Logistic Regression (LR) \u001b[0m------------------------->>>\n",
      "\n",
      "Accuracy = 72.7%\n",
      "F1 Score = 72.5%\n",
      "\n",
      " \u001b[1mConfusiton Matrix:\u001b[0m\n",
      " [[11882  6579]\n",
      " [ 3446 14773]]\n",
      "\n",
      "\u001b[1mClassification Report:\u001b[0m\n",
      "               precision    recall  f1-score   support\n",
      "\n",
      "           0       0.78      0.64      0.70     18461\n",
      "           1       0.69      0.81      0.75     18219\n",
      "\n",
      "    accuracy                           0.73     36680\n",
      "   macro avg       0.73      0.73      0.72     36680\n",
      "weighted avg       0.73      0.73      0.72     36680\n",
      "\n"
     ]
    },
    {
     "data": {
      "image/png": "[encoded data removed]",
      "text/plain": [
       "<Figure size 720x432 with 1 Axes>"
      ]
     },
     "metadata": {
      "needs_background": "light"
     },
     "output_type": "display_data"
    },
    {
     "name": "stdout",
     "output_type": "stream",
     "text": [
      "\n",
      "\u001b[1mInterpreting the Output of Logistic Regression:\n",
      "\u001b[0m\n",
      "intercept  -0.6370003724354577\n",
      "classes [0 1]\n"
     ]
    },
    {
     "data": {
      "text/html": [
       "<div>\n",
       "<style scoped>\n",
       "    .dataframe tbody tr th:only-of-type {\n",
       "        vertical-align: middle;\n",
       "    }\n",
       "\n",
       "    .dataframe tbody tr th {\n",
       "        vertical-align: top;\n",
       "    }\n",
       "\n",
       "    .dataframe thead th {\n",
       "        text-align: right;\n",
       "    }\n",
       "</style>\n",
       "<table border=\"1\" class=\"dataframe\">\n",
       "  <thead>\n",
       "    <tr style=\"text-align: right;\">\n",
       "      <th></th>\n",
       "      <th>coeff</th>\n",
       "    </tr>\n",
       "  </thead>\n",
       "  <tbody>\n",
       "    <tr>\n",
       "      <th>Credit_Worthiness</th>\n",
       "      <td>0.169675</td>\n",
       "    </tr>\n",
       "    <tr>\n",
       "      <th>open_credit</th>\n",
       "      <td>0.041099</td>\n",
       "    </tr>\n",
       "    <tr>\n",
       "      <th>business_or_commercial</th>\n",
       "      <td>3.426400</td>\n",
       "    </tr>\n",
       "    <tr>\n",
       "      <th>loan_amount</th>\n",
       "      <td>0.023306</td>\n",
       "    </tr>\n",
       "    <tr>\n",
       "      <th>term</th>\n",
       "      <td>0.000000</td>\n",
       "    </tr>\n",
       "    <tr>\n",
       "      <th>interest_only</th>\n",
       "      <td>0.123665</td>\n",
       "    </tr>\n",
       "    <tr>\n",
       "      <th>lump_sum_payment</th>\n",
       "      <td>0.673479</td>\n",
       "    </tr>\n",
       "    <tr>\n",
       "      <th>Secured_by</th>\n",
       "      <td>-0.144580</td>\n",
       "    </tr>\n",
       "    <tr>\n",
       "      <th>Credit_Score</th>\n",
       "      <td>-0.007825</td>\n",
       "    </tr>\n",
       "    <tr>\n",
       "      <th>loan_type_type2</th>\n",
       "      <td>2.773987</td>\n",
       "    </tr>\n",
       "    <tr>\n",
       "      <th>loan_type_type3</th>\n",
       "      <td>0.095064</td>\n",
       "    </tr>\n",
       "    <tr>\n",
       "      <th>total_units_2U</th>\n",
       "      <td>0.016236</td>\n",
       "    </tr>\n",
       "    <tr>\n",
       "      <th>total_units_3U</th>\n",
       "      <td>-0.000502</td>\n",
       "    </tr>\n",
       "    <tr>\n",
       "      <th>total_units_4U</th>\n",
       "      <td>0.025075</td>\n",
       "    </tr>\n",
       "    <tr>\n",
       "      <th>Region_North-East</th>\n",
       "      <td>0.057101</td>\n",
       "    </tr>\n",
       "    <tr>\n",
       "      <th>Region_central</th>\n",
       "      <td>0.134316</td>\n",
       "    </tr>\n",
       "    <tr>\n",
       "      <th>Region_south</th>\n",
       "      <td>0.168415</td>\n",
       "    </tr>\n",
       "    <tr>\n",
       "      <th>Gender_Joint</th>\n",
       "      <td>0.735165</td>\n",
       "    </tr>\n",
       "    <tr>\n",
       "      <th>Gender_Male</th>\n",
       "      <td>0.569229</td>\n",
       "    </tr>\n",
       "    <tr>\n",
       "      <th>Gender_Sex Not Available</th>\n",
       "      <td>0.389578</td>\n",
       "    </tr>\n",
       "  </tbody>\n",
       "</table>\n",
       "</div>"
      ],
      "text/plain": [
       "                             coeff\n",
       "Credit_Worthiness         0.169675\n",
       "open_credit               0.041099\n",
       "business_or_commercial    3.426400\n",
       "loan_amount               0.023306\n",
       "term                      0.000000\n",
       "interest_only             0.123665\n",
       "lump_sum_payment          0.673479\n",
       "Secured_by               -0.144580\n",
       "Credit_Score             -0.007825\n",
       "loan_type_type2           2.773987\n",
       "loan_type_type3           0.095064\n",
       "total_units_2U            0.016236\n",
       "total_units_3U           -0.000502\n",
       "total_units_4U            0.025075\n",
       "Region_North-East         0.057101\n",
       "Region_central            0.134316\n",
       "Region_south              0.168415\n",
       "Gender_Joint              0.735165\n",
       "Gender_Male               0.569229\n",
       "Gender_Sex Not Available  0.389578"
      ]
     },
     "metadata": {},
     "output_type": "display_data"
    }
   ],
   "source": [
    "# Building Logistic Regression Classifier\n",
    "\n",
    "LR_model = LogisticRegression()\n",
    "\n",
    "space = dict()\n",
    "space['solver'] = ['newton-cg', 'lbfgs', 'liblinear']\n",
    "space['penalty'] = ['l2'] #'none', 'l1', 'l2', 'elasticnet'\n",
    "space['C'] = loguniform(1e-5, 100)\n",
    "\n",
    "cv = RepeatedStratifiedKFold(n_splits=10, n_repeats=3, random_state=1)\n",
    "\n",
    "#RCV = RandomizedSearchCV(LR_model, space, n_iter=50, scoring='roc_auc', n_jobs=-1, cv=5, random_state=1)\n",
    "\n",
    "LR = LR_model.fit(Train_X_std, Train_Y)#.best_estimator_\n",
    "pred = LR.predict(Test_X_std)\n",
    "pred_prob = LR.predict_proba(Test_X_std)\n",
    "Classification_Summary(pred,pred_prob,0)\n",
    "\n",
    "print('\\n\\033[1mInterpreting the Output of Logistic Regression:\\n\\033[0m')\n",
    "\n",
    "print('intercept ', LR.intercept_[0])\n",
    "print('classes', LR.classes_)\n",
    "display(pd.DataFrame({'coeff': LR.coef_[0]}, index=Train_X_std.columns))"
   ]
  },
  {
   "cell_type": "markdown",
   "id": "10c0030e",
   "metadata": {
    "id": "ee2fdd6b",
    "papermill": {
     "duration": 0.120518,
     "end_time": "2022-02-04T22:12:57.537539",
     "exception": false,
     "start_time": "2022-02-04T22:12:57.417021",
     "status": "completed"
    },
    "tags": []
   },
   "source": [
    "---"
   ]
  },
  {
   "cell_type": "markdown",
   "id": "b51b6ca1",
   "metadata": {
    "id": "986ace46",
    "papermill": {
     "duration": 0.121157,
     "end_time": "2022-02-04T22:12:57.776230",
     "exception": false,
     "start_time": "2022-02-04T22:12:57.655073",
     "status": "completed"
    },
    "tags": []
   },
   "source": [
    "## 2. Decisoin Tree Classfier:"
   ]
  },
  {
   "cell_type": "code",
   "execution_count": 27,
   "id": "e8ef1d86",
   "metadata": {
    "execution": {
     "iopub.execute_input": "2022-02-04T22:12:58.015598Z",
     "iopub.status.busy": "2022-02-04T22:12:58.014871Z",
     "iopub.status.idle": "2022-02-04T22:53:09.962974Z",
     "shell.execute_reply": "2022-02-04T22:53:09.963522Z"
    },
    "id": "80477e47",
    "outputId": "87631b3c-1680-4260-cc62-5c14becad6cd",
    "papermill": {
     "duration": 2412.068814,
     "end_time": "2022-02-04T22:53:09.963848",
     "exception": false,
     "start_time": "2022-02-04T22:12:57.895034",
     "status": "completed"
    },
    "tags": []
   },
   "outputs": [
    {
     "name": "stdout",
     "output_type": "stream",
     "text": [
      "<<<-------------------------\u001b[1m Evaluating Decision Tree Classifier (DT) \u001b[0m------------------------->>>\n",
      "\n",
      "Accuracy = 72.39999999999999%\n",
      "F1 Score = 72.39999999999999%\n",
      "\n",
      " \u001b[1mConfusiton Matrix:\u001b[0m\n",
      " [[13911  4550]\n",
      " [ 5573 12646]]\n",
      "\n",
      "\u001b[1mClassification Report:\u001b[0m\n",
      "               precision    recall  f1-score   support\n",
      "\n",
      "           0       0.71      0.75      0.73     18461\n",
      "           1       0.74      0.69      0.71     18219\n",
      "\n",
      "    accuracy                           0.72     36680\n",
      "   macro avg       0.72      0.72      0.72     36680\n",
      "weighted avg       0.72      0.72      0.72     36680\n",
      "\n"
     ]
    },
    {
     "data": {
      "image/png": "[encoded data removed]",
      "text/plain": [
       "<Figure size 720x432 with 1 Axes>"
      ]
     },
     "metadata": {
      "needs_background": "light"
     },
     "output_type": "display_data"
    }
   ],
   "source": [
    "#Building Decision Tree Classifier\n",
    "\n",
    "DT_model = DecisionTreeClassifier()\n",
    "\n",
    "param_dist = {\"max_depth\": [3, None],\n",
    "              \"max_features\": randint(1, len(features)-1),\n",
    "              \"min_samples_leaf\": randint(1, len(features)-1),\n",
    "              \"criterion\": [\"gini\", \"entropy\"]}\n",
    "\n",
    "cv = RepeatedStratifiedKFold(n_splits=10, n_repeats=3, random_state=1)\n",
    "\n",
    "#RCV = RandomizedSearchCV(DT_model, param_dist, n_iter=50, scoring='roc_auc', n_jobs=-1, cv=5, random_state=1)\n",
    "\n",
    "DT = DT_model.fit(Train_X_std, Train_Y)#.best_estimator_\n",
    "pred = DT.predict(Test_X_std)\n",
    "pred_prob = DT.predict_proba(Test_X_std)\n",
    "Classification_Summary(pred,pred_prob,1)\n",
    "\n"
   ]
  },
  {
   "cell_type": "markdown",
   "id": "790b456b",
   "metadata": {
    "id": "3be2c8a6",
    "papermill": {
     "duration": 0.124361,
     "end_time": "2022-02-04T22:53:10.225936",
     "exception": false,
     "start_time": "2022-02-04T22:53:10.101575",
     "status": "completed"
    },
    "tags": []
   },
   "source": [
    "---"
   ]
  },
  {
   "cell_type": "markdown",
   "id": "9b797dcc",
   "metadata": {
    "id": "f9b4a1f0",
    "papermill": {
     "duration": 0.12768,
     "end_time": "2022-02-04T22:53:10.562661",
     "exception": false,
     "start_time": "2022-02-04T22:53:10.434981",
     "status": "completed"
    },
    "tags": []
   },
   "source": [
    "## 3. Random Forest Classfier:"
   ]
  },
  {
   "cell_type": "code",
   "execution_count": 28,
   "id": "7c004978",
   "metadata": {
    "execution": {
     "iopub.execute_input": "2022-02-04T22:53:10.822752Z",
     "iopub.status.busy": "2022-02-04T22:53:10.821794Z",
     "iopub.status.idle": "2022-02-04T22:53:34.996037Z",
     "shell.execute_reply": "2022-02-04T22:53:34.996584Z"
    },
    "id": "72085a34",
    "outputId": "16ff1405-82f3-448d-e3ce-6348bba76561",
    "papermill": {
     "duration": 24.312844,
     "end_time": "2022-02-04T22:53:34.996791",
     "exception": false,
     "start_time": "2022-02-04T22:53:10.683947",
     "status": "completed"
    },
    "tags": []
   },
   "outputs": [
    {
     "name": "stdout",
     "output_type": "stream",
     "text": [
      "<<<-------------------------\u001b[1m Evaluating Random Forest Classifier (RF) \u001b[0m------------------------->>>\n",
      "\n",
      "Accuracy = 74.6%\n",
      "F1 Score = 74.6%\n",
      "\n",
      " \u001b[1mConfusiton Matrix:\u001b[0m\n",
      " [[13813  4648]\n",
      " [ 4683 13536]]\n",
      "\n",
      "\u001b[1mClassification Report:\u001b[0m\n",
      "               precision    recall  f1-score   support\n",
      "\n",
      "           0       0.75      0.75      0.75     18461\n",
      "           1       0.74      0.74      0.74     18219\n",
      "\n",
      "    accuracy                           0.75     36680\n",
      "   macro avg       0.75      0.75      0.75     36680\n",
      "weighted avg       0.75      0.75      0.75     36680\n",
      "\n"
     ]
    },
    {
     "data": {
      "image/png": "[encoded data removed]",
      "text/plain": [
       "<Figure size 720x432 with 1 Axes>"
      ]
     },
     "metadata": {
      "needs_background": "light"
     },
     "output_type": "display_data"
    },
    {
     "name": "stdout",
     "output_type": "stream",
     "text": [
      "\n",
      "\u001b[1mInterpreting the output of Random Forest:\n",
      "\u001b[0m\n"
     ]
    },
    {
     "data": {
      "image/png": "[encoded data removed]",
      "text/plain": [
       "<Figure size 720x432 with 1 Axes>"
      ]
     },
     "metadata": {
      "needs_background": "light"
     },
     "output_type": "display_data"
    }
   ],
   "source": [
    "# Building Random-Forest Classifier\n",
    "\n",
    "RF_model = RandomForestClassifier()\n",
    "\n",
    "param_dist={'bootstrap': [True, False],\n",
    "            'max_depth': [10, 20, 50, 100, None],\n",
    "            'max_features': ['auto', 'sqrt'],\n",
    "            'min_samples_leaf': [1, 2, 4],\n",
    "            'min_samples_split': [2, 5, 10],\n",
    "            'n_estimators': [50, 100]}\n",
    "\n",
    "cv = RepeatedStratifiedKFold(n_splits=5, n_repeats=3, random_state=1)\n",
    "\n",
    "#RCV = RandomizedSearchCV(RF_model, param_dist, n_iter=50, scoring='roc_auc', n_jobs=-1, cv=5, random_state=1)\n",
    "\n",
    "RF = RF_model.fit(Train_X_std, Train_Y)#.best_estimator_\n",
    "pred = RF.predict(Test_X_std)\n",
    "pred_prob = RF.predict_proba(Test_X_std)\n",
    "Classification_Summary(pred,pred_prob,2)\n",
    "\n",
    "print('\\n\\033[1mInterpreting the output of Random Forest:\\n\\033[0m')\n",
    "rfi=pd.Series(RF.feature_importances_, index=Train_X_std.columns).sort_values(ascending=False)\n",
    "plt.barh(rfi.index,rfi.values)\n",
    "plt.show()"
   ]
  },
  {
   "cell_type": "markdown",
   "id": "93742db7",
   "metadata": {
    "id": "1b05ceec",
    "papermill": {
     "duration": 0.126038,
     "end_time": "2022-02-04T22:53:35.252807",
     "exception": false,
     "start_time": "2022-02-04T22:53:35.126769",
     "status": "completed"
    },
    "tags": []
   },
   "source": [
    "---"
   ]
  },
  {
   "cell_type": "markdown",
   "id": "e0d080ff",
   "metadata": {
    "id": "be513488",
    "papermill": {
     "duration": 0.129272,
     "end_time": "2022-02-04T22:53:35.514265",
     "exception": false,
     "start_time": "2022-02-04T22:53:35.384993",
     "status": "completed"
    },
    "tags": []
   },
   "source": [
    "## 4. Naive Bayes Classfier:"
   ]
  },
  {
   "cell_type": "code",
   "execution_count": 29,
   "id": "65ebe2e8",
   "metadata": {
    "execution": {
     "iopub.execute_input": "2022-02-04T22:53:35.778770Z",
     "iopub.status.busy": "2022-02-04T22:53:35.777811Z",
     "iopub.status.idle": "2022-02-04T22:53:36.391529Z",
     "shell.execute_reply": "2022-02-04T22:53:36.392245Z"
    },
    "id": "664eea17",
    "outputId": "19165b81-4639-478c-c52d-3a1e35fba094",
    "papermill": {
     "duration": 0.753957,
     "end_time": "2022-02-04T22:53:36.392445",
     "exception": false,
     "start_time": "2022-02-04T22:53:35.638488",
     "status": "completed"
    },
    "tags": []
   },
   "outputs": [
    {
     "name": "stdout",
     "output_type": "stream",
     "text": [
      "<<<-------------------------\u001b[1m Evaluating Naïve Bayes Classifier (NB) \u001b[0m------------------------->>>\n",
      "\n",
      "Accuracy = 70.8%\n",
      "F1 Score = 70.7%\n",
      "\n",
      " \u001b[1mConfusiton Matrix:\u001b[0m\n",
      " [[12056  6405]\n",
      " [ 4310 13909]]\n",
      "\n",
      "\u001b[1mClassification Report:\u001b[0m\n",
      "               precision    recall  f1-score   support\n",
      "\n",
      "           0       0.74      0.65      0.69     18461\n",
      "           1       0.68      0.76      0.72     18219\n",
      "\n",
      "    accuracy                           0.71     36680\n",
      "   macro avg       0.71      0.71      0.71     36680\n",
      "weighted avg       0.71      0.71      0.71     36680\n",
      "\n"
     ]
    },
    {
     "data": {
      "image/png": "[encoded data removed]",
      "text/plain": [
       "<Figure size 720x432 with 1 Axes>"
      ]
     },
     "metadata": {
      "needs_background": "light"
     },
     "output_type": "display_data"
    }
   ],
   "source": [
    "# Building Naive Bayes Classifier\n",
    "\n",
    "NB_model = BernoulliNB()\n",
    "\n",
    "params = {'alpha': [0.01, 0.1, 0.5]}\n",
    "cv = RepeatedStratifiedKFold(n_splits=5, n_repeats=3, random_state=1)\n",
    "\n",
    "#RCV = RandomizedSearchCV(NB_model, params, n_iter=50, scoring='roc_auc', n_jobs=-1, cv=5, random_state=1)\n",
    "\n",
    "NB = NB_model.fit(Train_X_std, Train_Y)#.best_estimator_\n",
    "pred = NB.predict(Test_X_std)\n",
    "pred_prob = NB.predict_proba(Test_X_std)\n",
    "Classification_Summary(pred,pred_prob,3)"
   ]
  },
  {
   "cell_type": "markdown",
   "id": "9ed779b8",
   "metadata": {
    "id": "32275875",
    "papermill": {
     "duration": 0.13184,
     "end_time": "2022-02-04T22:53:36.658635",
     "exception": false,
     "start_time": "2022-02-04T22:53:36.526795",
     "status": "completed"
    },
    "tags": []
   },
   "source": [
    "---"
   ]
  },
  {
   "cell_type": "code",
   "execution_count": 30,
   "id": "3502bc91",
   "metadata": {
    "id": "fac2880e",
    "outputId": "ab873a0d-6b6f-4511-ae69-b6701d54dc0b",
    "papermill": {
     "duration": null,
     "end_time": null,
     "exception": null,
     "start_time": null,
     "status": "pending"
    },
    "tags": []
   },
   "outputs": [
    {
     "ename": "NameError",
     "evalue": "name 'SVM' is not defined",
     "output_type": "error",
     "traceback": [
      "\u001b[1;31m---------------------------------------------------------------------------\u001b[0m",
      "\u001b[1;31mNameError\u001b[0m                                 Traceback (most recent call last)",
      "\u001b[1;32m<ipython-input-30-3cdb30efb720>\u001b[0m in \u001b[0;36m<module>\u001b[1;34m\u001b[0m\n\u001b[0;32m     41\u001b[0m     \u001b[0mplt\u001b[0m\u001b[1;33m.\u001b[0m\u001b[0mshow\u001b[0m\u001b[1;33m(\u001b[0m\u001b[1;33m)\u001b[0m\u001b[1;33m\u001b[0m\u001b[1;33m\u001b[0m\u001b[0m\n\u001b[0;32m     42\u001b[0m \u001b[1;33m\u001b[0m\u001b[0m\n\u001b[1;32m---> 43\u001b[1;33m \u001b[0mconf_mat_plot\u001b[0m\u001b[1;33m(\u001b[0m\u001b[1;33m[\u001b[0m\u001b[0mLR\u001b[0m\u001b[1;33m,\u001b[0m\u001b[0mDT\u001b[0m\u001b[1;33m,\u001b[0m\u001b[0mRF\u001b[0m\u001b[1;33m,\u001b[0m\u001b[0mNB\u001b[0m\u001b[1;33m,\u001b[0m\u001b[0mSVM\u001b[0m\u001b[1;33m,\u001b[0m\u001b[0mKNN\u001b[0m\u001b[1;33m,\u001b[0m\u001b[0mGB\u001b[0m\u001b[1;33m,\u001b[0m\u001b[0mXGB\u001b[0m\u001b[1;33m]\u001b[0m\u001b[1;33m)\u001b[0m\u001b[1;33m\u001b[0m\u001b[1;33m\u001b[0m\u001b[0m\n\u001b[0m",
      "\u001b[1;31mNameError\u001b[0m: name 'SVM' is not defined"
     ]
    }
   ],
   "source": [
    "#Plotting Confusion-Matrix of all the predictive Models\n",
    "\n",
    "def plot_cm(y_true, y_pred):\n",
    "    cm = confusion_matrix(y_true, y_pred, labels=np.unique(y_true))\n",
    "    cm_sum = np.sum(cm, axis=1, keepdims=True)\n",
    "    cm_perc = cm / cm_sum.astype(float) * 100\n",
    "    annot = np.empty_like(cm).astype(str)\n",
    "    nrows, ncols = cm.shape\n",
    "    for i in range(nrows):\n",
    "        for j in range(ncols):\n",
    "            c = cm[i, j]\n",
    "            p = cm_perc[i, j]\n",
    "            if i == j:\n",
    "                s = cm_sum[i]\n",
    "                annot[i, j] = '%.1f%%\\n%d/%d' % (p, c, s)\n",
    "            elif c == 0:\n",
    "                annot[i, j] = ''\n",
    "            else:\n",
    "                annot[i, j] = '%.1f%%\\n%d' % (p, c)\n",
    "    cm = pd.DataFrame(cm, index=np.unique(y_true), columns=np.unique(y_true))\n",
    "    cm.columns=labels\n",
    "    cm.index=labels\n",
    "    cm.index.name = 'Actual'\n",
    "    cm.columns.name = 'Predicted'\n",
    "    #fig, ax = plt.subplots()\n",
    "    sns.heatmap(cm, annot=annot, fmt='')# cmap= \"GnBu\"\n",
    "    \n",
    "def conf_mat_plot(all_models):\n",
    "    plt.figure(figsize=[20,3.5*math.ceil(len(all_models)*len(labels)/14)])\n",
    "    \n",
    "    for i in range(len(all_models)):\n",
    "        if len(labels)<=4:\n",
    "            plt.subplot(2,4,i+1)\n",
    "        else:\n",
    "            plt.subplot(math.ceil(len(all_models)/3),3,i+1)\n",
    "        pred = all_models[i].predict(Test_X_std)\n",
    "        #plot_cm(Test_Y, pred)\n",
    "        sns.heatmap(confusion_matrix(Test_Y, pred), annot=True, cmap='Blues', fmt='.0f') #vmin=0,vmax=5\n",
    "        plt.title(Evaluation_Results.index[i])\n",
    "    plt.tight_layout()\n",
    "    plt.show()\n",
    "\n",
    "conf_mat_plot([LR,DT,RF,NB,SVM,KNN,GB,XGB])"
   ]
  },
  {
   "cell_type": "code",
   "execution_count": 31,
   "id": "92f37711",
   "metadata": {
    "id": "46bc3267",
    "outputId": "6b166b75-3bc0-4514-e486-2f7e06eb58b8",
    "papermill": {
     "duration": null,
     "end_time": null,
     "exception": null,
     "start_time": null,
     "status": "pending"
    },
    "tags": []
   },
   "outputs": [
    {
     "name": "stdout",
     "output_type": "stream",
     "text": [
      "                                    \u001b[1mML Algorithms Comparison                                    \n"
     ]
    },
    {
     "data": {
      "image/png": "[encoded data removed]",
      "text/plain": [
       "<Figure size 864x576 with 2 Axes>"
      ]
     },
     "metadata": {
      "needs_background": "light"
     },
     "output_type": "display_data"
    }
   ],
   "source": [
    "#Comparing all the models Scores\n",
    "\n",
    "print('\\033[1mML Algorithms Comparison'.center(100))\n",
    "plt.figure(figsize=[12,8])\n",
    "sns.heatmap(Evaluation_Results, annot=True, vmin=60, vmax=95, cmap='Blues', fmt='.1f')\n",
    "plt.show()"
   ]
  },
  {
   "cell_type": "markdown",
   "id": "a0642b46",
   "metadata": {
    "id": "5372172f",
    "papermill": {
     "duration": null,
     "end_time": null,
     "exception": null,
     "start_time": null,
     "status": "pending"
    },
    "tags": []
   },
   "source": [
    "**Insights:** For the current problem statement, it is more important to focus on the F1-score. We can note from the above heatmap that the Boosting & RandomForest Models Performed well on the current dataset..."
   ]
  },
  {
   "cell_type": "markdown",
   "id": "f108cb88",
   "metadata": {
    "id": "b307e664",
    "papermill": {
     "duration": null,
     "end_time": null,
     "exception": null,
     "start_time": null,
     "status": "pending"
    },
    "tags": []
   },
   "source": [
    "---"
   ]
  },
  {
   "cell_type": "markdown",
   "id": "fd5cb5f5",
   "metadata": {
    "id": "7938051f",
    "papermill": {
     "duration": null,
     "end_time": null,
     "exception": null,
     "start_time": null,
     "status": "pending"
    },
    "tags": []
   },
   "source": [
    "# <center> 7. Project Outcomes & Conclusions"
   ]
  },
  {
   "cell_type": "markdown",
   "id": "073002b7",
   "metadata": {
    "id": "c207a2b2",
    "papermill": {
     "duration": null,
     "end_time": null,
     "exception": null,
     "start_time": null,
     "status": "pending"
    },
    "tags": []
   },
   "source": [
    "### Here are some of the key outcomes of the project:\n",
    "- The Dataset was large enough summing around 1.5 lakh samples & after preprocessing 31.8% of the datasamples were dropped. \n",
    "- The samples were slightly imbalanced after processing, hence SMOTE Technique was applied on the data to  balance the classes, adding 15.5% more samples to the dataset.\n",
    "- Visualising the distribution of data & their relationships, helped us to get some insights on the relationship between the feature-set.\n",
    "- Feature Selection/Eliminination was carried out and appropriate features were shortlisted.\n",
    "- Testing multiple algorithms with fine-tuning hyperparamters gave us some understanding on the model performance for various algorithms on this specific dataset.\n",
    "- The SVM, Boosting & Random Forest Classifier performed exceptionally well on the current dataset, considering F1-score as the key-metric.\n",
    "- Yet it wise to also consider simpler model like Logistic Regression as it is more generalisable & is computationally less expensive, but comes at the cost of slight misclassifications."
   ]
  },
  {
   "cell_type": "code",
   "execution_count": null,
   "id": "ef8720dc",
   "metadata": {
    "papermill": {
     "duration": null,
     "end_time": null,
     "exception": null,
     "start_time": null,
     "status": "pending"
    },
    "tags": []
   },
   "outputs": [],
   "source": [
    "#<<<---------------------------------------------THE END----------------------------------------------------------------->>>"
   ]
  }
 ],
 "metadata": {
  "kernelspec": {
   "display_name": "Python 3",
   "language": "python",
   "name": "python3"
  },
  "language_info": {
   "codemirror_mode": {
    "name": "ipython",
    "version": 3
   },
   "file_extension": ".py",
   "mimetype": "text/x-python",
   "name": "python",
   "nbconvert_exporter": "python",
   "pygments_lexer": "ipython3",
   "version": "3.8.7"
  },
  "papermill": {
   "default_parameters": {},
   "duration": null,
   "end_time": null,
   "environment_variables": {},
   "exception": null,
   "input_path": "__notebook__.ipynb",
   "output_path": "__notebook__.ipynb",
   "parameters": {},
   "start_time": "2022-02-04T20:53:48.651076",
   "version": "2.3.3"
  }
 },
 "nbformat": 4,
 "nbformat_minor": 5
}
